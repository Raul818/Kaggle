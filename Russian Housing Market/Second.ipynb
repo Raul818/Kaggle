{
 "cells": [
  {
   "cell_type": "code",
   "execution_count": 54,
   "metadata": {
    "collapsed": true
   },
   "outputs": [],
   "source": [
    "import numpy as np\n",
    "import pandas as pd\n",
    "import matplotlib.pyplot as plt\n",
    "import matplotlib\n",
    "import seaborn as sns\n",
    "sns.set_style(\"darkgrid\")\n",
    "matplotlib.rc('font', size=20)\n",
    "matplotlib.rc('axes', titlesize=20)\n",
    "matplotlib.rc('axes', labelsize=20)\n",
    "matplotlib.rc('xtick', labelsize=20)\n",
    "matplotlib.rc('ytick', labelsize=20)\n",
    "matplotlib.rc('legend', fontsize=20)\n",
    "matplotlib.rc('figure', titlesize=20)\n",
    "%matplotlib inline"
   ]
  },
  {
   "cell_type": "code",
   "execution_count": 55,
   "metadata": {
    "collapsed": false
   },
   "outputs": [],
   "source": [
    "train_df = pd.read_csv(\"/Users/sominwadhwa/Work/Kaggle_Data/Russian Housing Market/train.csv\"\n",
    "                      , parse_dates = ['timestamp'])\n",
    "test_df = pd.read_csv(\"/Users/sominwadhwa/Work/Kaggle_Data/Russian Housing Market/test.csv\",\n",
    "                     parse_dates = ['timestamp'])\n",
    "macro_df = pd.read_csv(\"/Users/sominwadhwa/Work/Kaggle_Data/Russian Housing Market/macro.csv\",\n",
    "                      parse_dates = ['timestamp'])"
   ]
  },
  {
   "cell_type": "code",
   "execution_count": 56,
   "metadata": {
    "collapsed": false
   },
   "outputs": [
    {
     "name": "stdout",
     "output_type": "stream",
     "text": [
      "(30471, 391) (7662, 390)\n"
     ]
    }
   ],
   "source": [
    "train_df = pd.merge(train_df,macro_df,on='timestamp', how='left')\n",
    "test_df = pd.merge(test_df,macro_df,on='timestamp',how='left')\n",
    "print (train_df.shape,test_df.shape)"
   ]
  },
  {
   "cell_type": "code",
   "execution_count": 57,
   "metadata": {
    "collapsed": false
   },
   "outputs": [
    {
     "name": "stdout",
     "output_type": "stream",
     "text": [
      "<class 'pandas.core.frame.DataFrame'>\n",
      "Int64Index: 30471 entries, 0 to 30470\n",
      "Columns: 391 entries, id to apartment_fund_sqm\n",
      "dtypes: datetime64[ns](1), float64(213), int64(159), object(18)\n",
      "memory usage: 91.1+ MB\n",
      "<class 'pandas.core.frame.DataFrame'>\n",
      "Int64Index: 7662 entries, 0 to 7661\n",
      "Columns: 390 entries, id to apartment_fund_sqm\n",
      "dtypes: datetime64[ns](1), float64(210), int64(161), object(18)\n",
      "memory usage: 22.9+ MB\n",
      "None None\n"
     ]
    }
   ],
   "source": [
    "print (train_df.info(),test_df.info())"
   ]
  },
  {
   "cell_type": "markdown",
   "metadata": {},
   "source": [
    "##### Label Encoding\n",
    "Why not OHE? OHE has a the advantage that the result is binary rather than ordinal and that everything sits in an orthogonal vector space. The disadvantage (in this particular case) is that of high cardinality, the feature space will really blow up quickly and I'll end up fighting with the curse of dimensionality. Another typical alternative can be to use OHE followed by PCA, but since features like `sub_area` can take a range of value, we'll avoid OHE altogether."
   ]
  },
  {
   "cell_type": "code",
   "execution_count": 58,
   "metadata": {
    "collapsed": true
   },
   "outputs": [],
   "source": [
    "from sklearn.preprocessing import LabelEncoder"
   ]
  },
  {
   "cell_type": "code",
   "execution_count": 59,
   "metadata": {
    "collapsed": false
   },
   "outputs": [
    {
     "name": "stdout",
     "output_type": "stream",
     "text": [
      "product_type\n",
      "sub_area\n",
      "culture_objects_top_25\n",
      "thermal_power_plant_raion\n",
      "incineration_raion\n",
      "oil_chemistry_raion\n",
      "radiation_raion\n",
      "railroad_terminal_raion\n",
      "big_market_raion\n",
      "nuclear_reactor_raion\n",
      "detention_facility_raion\n",
      "water_1line\n",
      "big_road1_1line\n",
      "railroad_1line\n",
      "ecology\n",
      "child_on_acc_pre_school\n",
      "modern_education_share\n",
      "old_education_build_share\n"
     ]
    }
   ],
   "source": [
    "label = LabelEncoder()\n",
    "for f in train_df.columns:\n",
    "    if train_df[f].dtype=='object':\n",
    "        print(f)\n",
    "        label.fit(list(train_df[f].values.astype('str')) + list(test_df[f].values.astype('str')))\n",
    "        train_df[f] = label.transform(list(train_df[f].values.astype('str')))\n",
    "        test_df[f] = label.transform(list(test_df[f].values.astype('str')))"
   ]
  },
  {
   "cell_type": "markdown",
   "metadata": {},
   "source": [
    "Since there are some null values in the dataset, a common approach is fill them by the mean or median (avoiding outliers) of their respective columns."
   ]
  },
  {
   "cell_type": "code",
   "execution_count": 60,
   "metadata": {
    "collapsed": false
   },
   "outputs": [
    {
     "data": {
      "text/html": [
       "<div>\n",
       "<table border=\"1\" class=\"dataframe\">\n",
       "  <thead>\n",
       "    <tr style=\"text-align: right;\">\n",
       "      <th></th>\n",
       "      <th>id</th>\n",
       "      <th>timestamp</th>\n",
       "      <th>full_sq</th>\n",
       "      <th>life_sq</th>\n",
       "      <th>floor</th>\n",
       "      <th>max_floor</th>\n",
       "      <th>material</th>\n",
       "      <th>build_year</th>\n",
       "      <th>num_room</th>\n",
       "      <th>kitch_sq</th>\n",
       "      <th>...</th>\n",
       "      <th>provision_retail_space_modern_sqm</th>\n",
       "      <th>turnover_catering_per_cap</th>\n",
       "      <th>theaters_viewers_per_1000_cap</th>\n",
       "      <th>seats_theather_rfmin_per_100000_cap</th>\n",
       "      <th>museum_visitis_per_100_cap</th>\n",
       "      <th>bandwidth_sports</th>\n",
       "      <th>population_reg_sports_share</th>\n",
       "      <th>students_reg_sports_share</th>\n",
       "      <th>apartment_build</th>\n",
       "      <th>apartment_fund_sqm</th>\n",
       "    </tr>\n",
       "  </thead>\n",
       "  <tbody>\n",
       "    <tr>\n",
       "      <th>0</th>\n",
       "      <td>1</td>\n",
       "      <td>2011-08-20</td>\n",
       "      <td>43</td>\n",
       "      <td>27.0</td>\n",
       "      <td>4.0</td>\n",
       "      <td>12.558974</td>\n",
       "      <td>1.827121</td>\n",
       "      <td>3068.057097</td>\n",
       "      <td>1.909804</td>\n",
       "      <td>6.399301</td>\n",
       "      <td>...</td>\n",
       "      <td>271.0</td>\n",
       "      <td>6943.0</td>\n",
       "      <td>565.0</td>\n",
       "      <td>0.45356</td>\n",
       "      <td>1240.0</td>\n",
       "      <td>269768.0</td>\n",
       "      <td>22.37</td>\n",
       "      <td>64.12</td>\n",
       "      <td>23587.0</td>\n",
       "      <td>230310.0</td>\n",
       "    </tr>\n",
       "    <tr>\n",
       "      <th>1</th>\n",
       "      <td>2</td>\n",
       "      <td>2011-08-23</td>\n",
       "      <td>34</td>\n",
       "      <td>19.0</td>\n",
       "      <td>3.0</td>\n",
       "      <td>12.558974</td>\n",
       "      <td>1.827121</td>\n",
       "      <td>3068.057097</td>\n",
       "      <td>1.909804</td>\n",
       "      <td>6.399301</td>\n",
       "      <td>...</td>\n",
       "      <td>271.0</td>\n",
       "      <td>6943.0</td>\n",
       "      <td>565.0</td>\n",
       "      <td>0.45356</td>\n",
       "      <td>1240.0</td>\n",
       "      <td>269768.0</td>\n",
       "      <td>22.37</td>\n",
       "      <td>64.12</td>\n",
       "      <td>23587.0</td>\n",
       "      <td>230310.0</td>\n",
       "    </tr>\n",
       "    <tr>\n",
       "      <th>2</th>\n",
       "      <td>3</td>\n",
       "      <td>2011-08-27</td>\n",
       "      <td>43</td>\n",
       "      <td>29.0</td>\n",
       "      <td>2.0</td>\n",
       "      <td>12.558974</td>\n",
       "      <td>1.827121</td>\n",
       "      <td>3068.057097</td>\n",
       "      <td>1.909804</td>\n",
       "      <td>6.399301</td>\n",
       "      <td>...</td>\n",
       "      <td>271.0</td>\n",
       "      <td>6943.0</td>\n",
       "      <td>565.0</td>\n",
       "      <td>0.45356</td>\n",
       "      <td>1240.0</td>\n",
       "      <td>269768.0</td>\n",
       "      <td>22.37</td>\n",
       "      <td>64.12</td>\n",
       "      <td>23587.0</td>\n",
       "      <td>230310.0</td>\n",
       "    </tr>\n",
       "    <tr>\n",
       "      <th>3</th>\n",
       "      <td>4</td>\n",
       "      <td>2011-09-01</td>\n",
       "      <td>89</td>\n",
       "      <td>50.0</td>\n",
       "      <td>9.0</td>\n",
       "      <td>12.558974</td>\n",
       "      <td>1.827121</td>\n",
       "      <td>3068.057097</td>\n",
       "      <td>1.909804</td>\n",
       "      <td>6.399301</td>\n",
       "      <td>...</td>\n",
       "      <td>271.0</td>\n",
       "      <td>6943.0</td>\n",
       "      <td>565.0</td>\n",
       "      <td>0.45356</td>\n",
       "      <td>1240.0</td>\n",
       "      <td>269768.0</td>\n",
       "      <td>22.37</td>\n",
       "      <td>64.12</td>\n",
       "      <td>23587.0</td>\n",
       "      <td>230310.0</td>\n",
       "    </tr>\n",
       "    <tr>\n",
       "      <th>4</th>\n",
       "      <td>5</td>\n",
       "      <td>2011-09-05</td>\n",
       "      <td>77</td>\n",
       "      <td>77.0</td>\n",
       "      <td>4.0</td>\n",
       "      <td>12.558974</td>\n",
       "      <td>1.827121</td>\n",
       "      <td>3068.057097</td>\n",
       "      <td>1.909804</td>\n",
       "      <td>6.399301</td>\n",
       "      <td>...</td>\n",
       "      <td>271.0</td>\n",
       "      <td>6943.0</td>\n",
       "      <td>565.0</td>\n",
       "      <td>0.45356</td>\n",
       "      <td>1240.0</td>\n",
       "      <td>269768.0</td>\n",
       "      <td>22.37</td>\n",
       "      <td>64.12</td>\n",
       "      <td>23587.0</td>\n",
       "      <td>230310.0</td>\n",
       "    </tr>\n",
       "  </tbody>\n",
       "</table>\n",
       "<p>5 rows × 391 columns</p>\n",
       "</div>"
      ],
      "text/plain": [
       "   id  timestamp  full_sq  life_sq  floor  max_floor  material   build_year  \\\n",
       "0   1 2011-08-20       43     27.0    4.0  12.558974  1.827121  3068.057097   \n",
       "1   2 2011-08-23       34     19.0    3.0  12.558974  1.827121  3068.057097   \n",
       "2   3 2011-08-27       43     29.0    2.0  12.558974  1.827121  3068.057097   \n",
       "3   4 2011-09-01       89     50.0    9.0  12.558974  1.827121  3068.057097   \n",
       "4   5 2011-09-05       77     77.0    4.0  12.558974  1.827121  3068.057097   \n",
       "\n",
       "   num_room  kitch_sq         ...          provision_retail_space_modern_sqm  \\\n",
       "0  1.909804  6.399301         ...                                      271.0   \n",
       "1  1.909804  6.399301         ...                                      271.0   \n",
       "2  1.909804  6.399301         ...                                      271.0   \n",
       "3  1.909804  6.399301         ...                                      271.0   \n",
       "4  1.909804  6.399301         ...                                      271.0   \n",
       "\n",
       "   turnover_catering_per_cap  theaters_viewers_per_1000_cap  \\\n",
       "0                     6943.0                          565.0   \n",
       "1                     6943.0                          565.0   \n",
       "2                     6943.0                          565.0   \n",
       "3                     6943.0                          565.0   \n",
       "4                     6943.0                          565.0   \n",
       "\n",
       "   seats_theather_rfmin_per_100000_cap  museum_visitis_per_100_cap  \\\n",
       "0                              0.45356                      1240.0   \n",
       "1                              0.45356                      1240.0   \n",
       "2                              0.45356                      1240.0   \n",
       "3                              0.45356                      1240.0   \n",
       "4                              0.45356                      1240.0   \n",
       "\n",
       "   bandwidth_sports  population_reg_sports_share  students_reg_sports_share  \\\n",
       "0          269768.0                        22.37                      64.12   \n",
       "1          269768.0                        22.37                      64.12   \n",
       "2          269768.0                        22.37                      64.12   \n",
       "3          269768.0                        22.37                      64.12   \n",
       "4          269768.0                        22.37                      64.12   \n",
       "\n",
       "   apartment_build  apartment_fund_sqm  \n",
       "0          23587.0            230310.0  \n",
       "1          23587.0            230310.0  \n",
       "2          23587.0            230310.0  \n",
       "3          23587.0            230310.0  \n",
       "4          23587.0            230310.0  \n",
       "\n",
       "[5 rows x 391 columns]"
      ]
     },
     "execution_count": 60,
     "metadata": {},
     "output_type": "execute_result"
    }
   ],
   "source": [
    "train_df.fillna(train_df.mean(), inplace=True)\n",
    "train_df.head()"
   ]
  },
  {
   "cell_type": "code",
   "execution_count": 61,
   "metadata": {
    "collapsed": false
   },
   "outputs": [
    {
     "data": {
      "image/png": "[encoded data removed]",
      "text/plain": [
       "<matplotlib.figure.Figure at 0x115bdc0b8>"
      ]
     },
     "metadata": {},
     "output_type": "display_data"
    }
   ],
   "source": [
    "plt.figure(figsize=(20,10))\n",
    "price = train_df.loc[:,['price_doc','id']]\n",
    "sns.boxplot(x=price['price_doc'])\n",
    "plt.xlabel(\"Price of the house\")\n",
    "q1 = price['price_doc'].quantile(0.25)\n",
    "q3 = price['price_doc'].quantile(0.75)\n",
    "iqr = q3 - q1"
   ]
  },
  {
   "cell_type": "markdown",
   "metadata": {},
   "source": [
    "#### Removing the outliers"
   ]
  },
  {
   "cell_type": "code",
   "execution_count": 62,
   "metadata": {
    "collapsed": false
   },
   "outputs": [
    {
     "name": "stdout",
     "output_type": "stream",
     "text": [
      "IQR =  3559998.0\n",
      "Upper threshhold : 13639997.0\n",
      "Lower threshhold : -599995.0\n",
      "Mean 6275929.181888139\n"
     ]
    }
   ],
   "source": [
    "threshold_upper = q3 + 1.5*iqr \n",
    "threshold_lower = q1- 1.5*iqr\n",
    "price_new = price.loc[(price['price_doc'] < threshold_upper) & (price['price_doc'] > threshold_lower)]\n",
    "print (\"IQR = \",(iqr))\n",
    "print(\"Upper threshhold :\",threshold_upper)\n",
    "print(\"Lower threshhold :\",threshold_lower)\n",
    "print(\"Mean\",price_new['price_doc'].mean())"
   ]
  },
  {
   "cell_type": "markdown",
   "metadata": {},
   "source": [
    "#### Feature Engineering"
   ]
  },
  {
   "cell_type": "markdown",
   "metadata": {},
   "source": [
    "Based on `timestamp`"
   ]
  },
  {
   "cell_type": "code",
   "execution_count": 63,
   "metadata": {
    "collapsed": true
   },
   "outputs": [],
   "source": [
    "train_df[\"year\"] = train_df[\"timestamp\"].dt.year\n",
    "test_df[\"year\"] = test_df[\"timestamp\"].dt.year\n",
    "train_df[\"month_of_year\"] = train_df[\"timestamp\"].dt.month\n",
    "test_df[\"month_of_year\"] = test_df[\"timestamp\"].dt.month\n",
    "train_df[\"week_of_year\"] = train_df[\"timestamp\"].dt.weekofyear\n",
    "test_df[\"week_of_year\"] = test_df[\"timestamp\"].dt.weekofyear\n",
    "train_df[\"day_of_week\"] = train_df[\"timestamp\"].dt.weekday\n",
    "test_df[\"day_of_week\"] = test_df[\"timestamp\"].dt.weekday\n",
    "train_df[\"age_of_building\"] = train_df[\"build_year\"] - train_df[\"year\"]\n",
    "test_df[\"age_of_building\"] = test_df[\"build_year\"] - test_df[\"year\"]\n",
    "train_df[\"yearmonth\"] = train_df[\"timestamp\"].dt.year*100 + train_df[\"timestamp\"].dt.month\n",
    "test_df[\"yearmonth\"] = test_df[\"timestamp\"].dt.year*100 + test_df[\"timestamp\"].dt.month\n",
    "train_df[\"yearweek\"] = train_df[\"timestamp\"].dt.year*100 + train_df[\"timestamp\"].dt.weekofyear\n",
    "test_df[\"yearweek\"] = test_df[\"timestamp\"].dt.year*100 + test_df[\"timestamp\"].dt.weekofyear"
   ]
  },
  {
   "cell_type": "markdown",
   "metadata": {},
   "source": [
    "Since, by common sense, `area` is a major prospectus in determining the price we try to create some interesting variable attributes around it"
   ]
  },
  {
   "cell_type": "code",
   "execution_count": 64,
   "metadata": {
    "collapsed": true
   },
   "outputs": [],
   "source": [
    "train_df[\"ratio_kitch_sq_life_sq\"] = train_df[\"kitch_sq\"] / train_df[\"life_sq\"].astype(\"float64\")\n",
    "test_df[\"ratio_kitch_sq_life_sq\"] = test_df[\"kitch_sq\"] / test_df[\"life_sq\"].astype(\"float64\")\n",
    "train_df[\"ratio_kitch_sq_full_sq\"] = train_df[\"kitch_sq\"] / train_df[\"full_sq\"].astype(\"float64\")\n",
    "test_df[\"ratio_kitch_sq_full_sq\"] = test_df[\"kitch_sq\"] / test_df[\"full_sq\"].astype(\"float64\")\n",
    "train_df[\"ratio_life_sq_full_sq\"] = train_df[\"life_sq\"] / train_df[\"full_sq\"].astype(\"float64\")\n",
    "test_df[\"ratio_life_sq_full_sq\"] = test_df[\"life_sq\"] / test_df[\"full_sq\"].astype(\"float64\")\n",
    "train_df[\"extra_sq\"] = train_df[\"full_sq\"] - train_df[\"life_sq\"]\n",
    "test_df[\"extra_sq\"] = test_df[\"full_sq\"] - test_df[\"life_sq\"]"
   ]
  },
  {
   "cell_type": "markdown",
   "metadata": {},
   "source": [
    "Since there is no direct attribute to measure height of the building, but surely there is some information about `floors`, leverage it"
   ]
  },
  {
   "cell_type": "code",
   "execution_count": 65,
   "metadata": {
    "collapsed": true
   },
   "outputs": [],
   "source": [
    "train_df[\"floor_from_top\"] = train_df[\"max_floor\"] - train_df[\"floor\"]\n",
    "test_df[\"floor_from_top\"] = test_df[\"max_floor\"] - test_df[\"floor\"]\n",
    "train_df[\"ratio_floor_max_floor\"] = train_df[\"floor\"] / train_df[\"max_floor\"].astype(\"float64\")\n",
    "test_df[\"ratio_floor_max_floor\"] = test_df[\"floor\"] / test_df[\"max_floor\"].astype(\"float64\")"
   ]
  },
  {
   "cell_type": "markdown",
   "metadata": {},
   "source": [
    "Looking at future prospectus -- `school`"
   ]
  },
  {
   "cell_type": "code",
   "execution_count": 66,
   "metadata": {
    "collapsed": true
   },
   "outputs": [],
   "source": [
    "train_df[\"ratio_preschool\"] = train_df[\"children_preschool\"] / train_df[\"preschool_quota\"].astype(\"float\")\n",
    "test_df[\"ratio_preschool\"] = test_df[\"children_preschool\"] / test_df[\"preschool_quota\"].astype(\"float\")\n",
    "train_df[\"ratio_school\"] = train_df[\"children_school\"] / train_df[\"school_quota\"].astype(\"float\")\n",
    "test_df[\"ratio_school\"] = test_df[\"children_school\"] / test_df[\"school_quota\"].astype(\"float\")"
   ]
  },
  {
   "cell_type": "markdown",
   "metadata": {},
   "source": [
    "Will keep adding more of these..."
   ]
  },
  {
   "cell_type": "markdown",
   "metadata": {},
   "source": [
    "#### Model Building (xgb)"
   ]
  },
  {
   "cell_type": "code",
   "execution_count": 67,
   "metadata": {
    "collapsed": true
   },
   "outputs": [],
   "source": [
    "import xgboost as xgb"
   ]
  },
  {
   "cell_type": "code",
   "execution_count": 68,
   "metadata": {
    "collapsed": false
   },
   "outputs": [],
   "source": [
    "train_df.drop(['id','timestamp'], axis=1, inplace=True)\n",
    "test_df.drop('timestamp',axis=1,inplace=True)"
   ]
  },
  {
   "cell_type": "code",
   "execution_count": 69,
   "metadata": {
    "collapsed": false
   },
   "outputs": [],
   "source": [
    "msk = np.random.rand(len(train_df)) < 0.8\n",
    "train = train_df[msk]\n",
    "cv = train_df[~msk]"
   ]
  },
  {
   "cell_type": "code",
   "execution_count": 70,
   "metadata": {
    "collapsed": true
   },
   "outputs": [],
   "source": [
    "X_train = train.drop('price_doc', axis=1)\n",
    "y_train = np.log1p(train['price_doc'])\n",
    "X_cv = cv.drop('price_doc',axis=1)\n",
    "y_cv = np.log1p(cv['price_doc'])\n",
    "X_test = test_df.drop('id', axis=1)"
   ]
  },
  {
   "cell_type": "code",
   "execution_count": 71,
   "metadata": {
    "collapsed": false
   },
   "outputs": [
    {
     "name": "stdout",
     "output_type": "stream",
     "text": [
      "(24329, 403) (24329,) (6142, 403) (6142,)\n"
     ]
    }
   ],
   "source": [
    "print(X_train.shape, y_train.shape,X_cv.shape,y_cv.shape)"
   ]
  },
  {
   "cell_type": "code",
   "execution_count": 72,
   "metadata": {
    "collapsed": false
   },
   "outputs": [
    {
     "name": "stdout",
     "output_type": "stream",
     "text": [
      "[0]\ttrain-rmse:14.3704\ttest-rmse:14.3515\n",
      "Multiple eval metrics have been passed: 'test-rmse' will be used for early stopping.\n",
      "\n",
      "Will train until test-rmse hasn't improved in 50 rounds.\n",
      "[5]\ttrain-rmse:11.1253\ttest-rmse:11.1068\n",
      "[10]\ttrain-rmse:8.61515\ttest-rmse:8.5976\n",
      "[15]\ttrain-rmse:6.67441\ttest-rmse:6.65802\n",
      "[20]\ttrain-rmse:5.1747\ttest-rmse:5.15893\n",
      "[25]\ttrain-rmse:4.01607\ttest-rmse:4.00194\n",
      "[30]\ttrain-rmse:3.12294\ttest-rmse:3.11065\n",
      "[35]\ttrain-rmse:2.43552\ttest-rmse:2.42507\n",
      "[40]\ttrain-rmse:1.90762\ttest-rmse:1.89942\n",
      "[45]\ttrain-rmse:1.50503\ttest-rmse:1.49963\n",
      "[50]\ttrain-rmse:1.20013\ttest-rmse:1.19793\n",
      "[55]\ttrain-rmse:0.972296\ttest-rmse:0.97375\n",
      "[60]\ttrain-rmse:0.805025\ttest-rmse:0.810519\n",
      "[65]\ttrain-rmse:0.684569\ttest-rmse:0.694805\n",
      "[70]\ttrain-rmse:0.600069\ttest-rmse:0.614828\n",
      "[75]\ttrain-rmse:0.542312\ttest-rmse:0.56139\n",
      "[80]\ttrain-rmse:0.503493\ttest-rmse:0.526472\n",
      "[85]\ttrain-rmse:0.478449\ttest-rmse:0.504639\n",
      "[90]\ttrain-rmse:0.462202\ttest-rmse:0.491128\n",
      "[95]\ttrain-rmse:0.451429\ttest-rmse:0.482714\n",
      "[100]\ttrain-rmse:0.443864\ttest-rmse:0.477112\n",
      "[105]\ttrain-rmse:0.438574\ttest-rmse:0.473475\n",
      "[110]\ttrain-rmse:0.434852\ttest-rmse:0.471488\n",
      "[115]\ttrain-rmse:0.431513\ttest-rmse:0.469943\n",
      "[120]\ttrain-rmse:0.429267\ttest-rmse:0.469058\n",
      "[125]\ttrain-rmse:0.426992\ttest-rmse:0.468578\n",
      "[130]\ttrain-rmse:0.424829\ttest-rmse:0.467996\n",
      "[135]\ttrain-rmse:0.423328\ttest-rmse:0.467604\n",
      "[140]\ttrain-rmse:0.422052\ttest-rmse:0.467141\n",
      "[145]\ttrain-rmse:0.420547\ttest-rmse:0.466694\n",
      "[150]\ttrain-rmse:0.418703\ttest-rmse:0.466531\n",
      "[155]\ttrain-rmse:0.417251\ttest-rmse:0.465938\n",
      "[160]\ttrain-rmse:0.415845\ttest-rmse:0.465798\n",
      "[165]\ttrain-rmse:0.414244\ttest-rmse:0.465631\n",
      "[170]\ttrain-rmse:0.412992\ttest-rmse:0.465526\n",
      "[175]\ttrain-rmse:0.411571\ttest-rmse:0.465438\n",
      "[180]\ttrain-rmse:0.409857\ttest-rmse:0.465195\n",
      "[185]\ttrain-rmse:0.40898\ttest-rmse:0.465089\n",
      "[190]\ttrain-rmse:0.407812\ttest-rmse:0.465095\n",
      "[195]\ttrain-rmse:0.406629\ttest-rmse:0.465042\n",
      "[200]\ttrain-rmse:0.405291\ttest-rmse:0.465075\n",
      "[205]\ttrain-rmse:0.404135\ttest-rmse:0.4649\n",
      "[210]\ttrain-rmse:0.403141\ttest-rmse:0.464675\n",
      "[215]\ttrain-rmse:0.402015\ttest-rmse:0.464588\n",
      "[220]\ttrain-rmse:0.400653\ttest-rmse:0.464669\n",
      "[225]\ttrain-rmse:0.399751\ttest-rmse:0.464574\n",
      "[230]\ttrain-rmse:0.398678\ttest-rmse:0.464599\n",
      "[235]\ttrain-rmse:0.397718\ttest-rmse:0.464548\n",
      "[240]\ttrain-rmse:0.396476\ttest-rmse:0.464362\n",
      "[245]\ttrain-rmse:0.395422\ttest-rmse:0.464406\n",
      "[250]\ttrain-rmse:0.394283\ttest-rmse:0.464528\n",
      "[255]\ttrain-rmse:0.393103\ttest-rmse:0.464429\n",
      "[260]\ttrain-rmse:0.39224\ttest-rmse:0.464538\n",
      "[265]\ttrain-rmse:0.391132\ttest-rmse:0.46458\n",
      "[270]\ttrain-rmse:0.389981\ttest-rmse:0.464824\n",
      "[275]\ttrain-rmse:0.388634\ttest-rmse:0.465\n",
      "[280]\ttrain-rmse:0.387604\ttest-rmse:0.465113\n",
      "[285]\ttrain-rmse:0.3868\ttest-rmse:0.465119\n",
      "[290]\ttrain-rmse:0.386026\ttest-rmse:0.465016\n",
      "Stopping. Best iteration:\n",
      "[241]\ttrain-rmse:0.396059\ttest-rmse:0.464302\n",
      "\n"
     ]
    }
   ],
   "source": [
    "xgb_params = {\n",
    "    'eta': 0.05,\n",
    "    'max_depth': 5,\n",
    "    'subsample': 0.7,\n",
    "    'colsample_bytree': 0.7,\n",
    "    'objective': 'reg:linear',\n",
    "    'eval_metric': 'rmse',\n",
    "    'min_child_weight':1,\n",
    "    'silent': 1,\n",
    "    'seed':0\n",
    "}\n",
    "xgtrain = xgb.DMatrix(X_train, y_train, feature_names=X_train.columns.values)\n",
    "xgtest = xgb.DMatrix(X_cv, y_cv, feature_names=X_cv.columns.values)\n",
    "watchlist = [ (xgtrain,'train'), (xgtest, 'test') ]\n",
    "num_rounds = 800\n",
    "model = xgb.train(xgb_params, xgtrain, num_rounds, watchlist, early_stopping_rounds=50, verbose_eval=5)"
   ]
  },
  {
   "cell_type": "code",
   "execution_count": 73,
   "metadata": {
    "collapsed": true
   },
   "outputs": [],
   "source": [
    "dtest = xgb.DMatrix(test_df.drop('id',axis=1), feature_names=test_df.drop('id',axis=1).columns.values)\n",
    "y_pred = np.expm1(model.predict(dtest))\n",
    "df_sub = pd.DataFrame({'id': test_df['id'], 'price_doc': y_pred})\n",
    "df_sub.to_csv('sub4.csv', index=False)"
   ]
  },
  {
   "cell_type": "code",
   "execution_count": null,
   "metadata": {
    "collapsed": true
   },
   "outputs": [],
   "source": []
  }
 ],
 "metadata": {
  "kernelspec": {
   "display_name": "Python [Root]",
   "language": "python",
   "name": "Python [Root]"
  },
  "language_info": {
   "codemirror_mode": {
    "name": "ipython",
    "version": 3
   },
   "file_extension": ".py",
   "mimetype": "text/x-python",
   "name": "python",
   "nbconvert_exporter": "python",
   "pygments_lexer": "ipython3",
   "version": "3.5.2"
  }
 },
 "nbformat": 4,
 "nbformat_minor": 2
}
