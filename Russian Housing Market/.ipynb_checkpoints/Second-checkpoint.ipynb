{
 "cells": [
  {
   "cell_type": "code",
   "execution_count": 1,
   "metadata": {
    "collapsed": true
   },
   "outputs": [],
   "source": [
    "import numpy as np\n",
    "import pandas as pd\n",
    "import matplotlib.pyplot as plt\n",
    "import matplotlib\n",
    "import seaborn as sns\n",
    "sns.set_style(\"darkgrid\")\n",
    "matplotlib.rc('font', size=20)\n",
    "matplotlib.rc('axes', titlesize=20)\n",
    "matplotlib.rc('axes', labelsize=20)\n",
    "matplotlib.rc('xtick', labelsize=20)\n",
    "matplotlib.rc('ytick', labelsize=20)\n",
    "matplotlib.rc('legend', fontsize=20)\n",
    "matplotlib.rc('figure', titlesize=20)\n",
    "%matplotlib inline"
   ]
  },
  {
   "cell_type": "code",
   "execution_count": 4,
   "metadata": {
    "collapsed": false
   },
   "outputs": [],
   "source": [
    "train_df = pd.read_csv(\"/Users/sominwadhwa/Work/Kaggle_Data/Russian Housing Market/train.csv\"\n",
    "                      , parse_dates = ['timestamp'])\n",
    "test_df = pd.read_csv(\"/Users/sominwadhwa/Work/Kaggle_Data/Russian Housing Market/test.csv\",\n",
    "                     parse_dates = ['timestamp'])\n",
    "macro_df = pd.read_csv(\"/Users/sominwadhwa/Work/Kaggle_Data/Russian Housing Market/macro.csv\",\n",
    "                      parse_dates = ['timestamp'])"
   ]
  },
  {
   "cell_type": "code",
   "execution_count": 5,
   "metadata": {
    "collapsed": false
   },
   "outputs": [
    {
     "name": "stdout",
     "output_type": "stream",
     "text": [
      "(30471, 391) (7662, 390)\n"
     ]
    }
   ],
   "source": [
    "train_df = pd.merge(train_df,macro_df,on='timestamp', how='left')\n",
    "test_df = pd.merge(test_df,macro_df,on='timestamp',how='left')\n",
    "print (train_df.shape,test_df.shape)"
   ]
  },
  {
   "cell_type": "code",
   "execution_count": 6,
   "metadata": {
    "collapsed": false
   },
   "outputs": [
    {
     "name": "stdout",
     "output_type": "stream",
     "text": [
      "<class 'pandas.core.frame.DataFrame'>\n",
      "Int64Index: 30471 entries, 0 to 30470\n",
      "Columns: 391 entries, id to apartment_fund_sqm\n",
      "dtypes: datetime64[ns](1), float64(213), int64(159), object(18)\n",
      "memory usage: 91.1+ MB\n",
      "<class 'pandas.core.frame.DataFrame'>\n",
      "Int64Index: 7662 entries, 0 to 7661\n",
      "Columns: 390 entries, id to apartment_fund_sqm\n",
      "dtypes: datetime64[ns](1), float64(210), int64(161), object(18)\n",
      "memory usage: 22.9+ MB\n",
      "None None\n"
     ]
    }
   ],
   "source": [
    "print (train_df.info(),test_df.info())"
   ]
  },
  {
   "cell_type": "code",
   "execution_count": null,
   "metadata": {
    "collapsed": true
   },
   "outputs": [],
   "source": []
  }
 ],
 "metadata": {
  "kernelspec": {
   "display_name": "Python [Root]",
   "language": "python",
   "name": "Python [Root]"
  },
  "language_info": {
   "codemirror_mode": {
    "name": "ipython",
    "version": 3
   },
   "file_extension": ".py",
   "mimetype": "text/x-python",
   "name": "python",
   "nbconvert_exporter": "python",
   "pygments_lexer": "ipython3",
   "version": "3.5.2"
  }
 },
 "nbformat": 4,
 "nbformat_minor": 2
}
