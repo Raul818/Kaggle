{
 "cells": [
  {
   "cell_type": "code",
   "execution_count": 3,
   "metadata": {
    "collapsed": false
   },
   "outputs": [],
   "source": [
    "\"\"\" From https://www.kaggle.com/mchirico/santas-uncertain-bags/santa-quick-look\"\"\"\n",
    "import pandas as pd\n",
    "import numpy as np\n",
    "import matplotlib\n",
    "import matplotlib.pyplot as plt\n",
    "import seaborn as sns\n",
    "sns.set_style('whitegrid')\n",
    "np.random.seed(1234)\n",
    "%matplotlib inline"
   ]
  },
  {
   "cell_type": "code",
   "execution_count": 4,
   "metadata": {
    "collapsed": true
   },
   "outputs": [],
   "source": [
    "data = pd.read_csv('gifts.csv')"
   ]
  },
  {
   "cell_type": "code",
   "execution_count": 7,
   "metadata": {
    "collapsed": false
   },
   "outputs": [],
   "source": [
    "def gifts(gType):\n",
    "    if gType == 'horse':\n",
    "        return max(0, np.random.normal(5,2,1)[0])\n",
    "    elif gType == 'ball':\n",
    "        return max(0, 1 + np.random.normal(1,0.3,1)[0])\n",
    "    elif gType == 'bike':\n",
    "        return max(0, np.random.normal(20,10,1)[0])\n",
    "    elif gType == 'train':\n",
    "        return max(0, np.random.normal(10,5,1)[0])\n",
    "    elif gType == 'coal':\n",
    "        return 47 * np.random.beta(0.5,0.5,1)[0]\n",
    "    elif gType == 'book':\n",
    "        return np.random.chisquare(2,1)[0]\n",
    "    elif gType == 'doll':\n",
    "        return np.random.gamma(5,1,1)[0]\n",
    "    elif gType == 'block':\n",
    "        return np.random.triangular(5,10,20,1)[0]\n",
    "    elif gType == 'gloves':\n",
    "        return (3.0 + np.random.rand(1)[0] if np.random.rand(1) < 0.3 else np.random.rand(1)[0])\n",
    "    else :\n",
    "        print(\"Wrong Arguement\")\n"
   ]
  },
  {
   "cell_type": "code",
   "execution_count": null,
   "metadata": {
    "collapsed": true
   },
   "outputs": [],
   "source": []
  }
 ],
 "metadata": {
  "anaconda-cloud": {},
  "kernelspec": {
   "display_name": "Python [Root]",
   "language": "python",
   "name": "Python [Root]"
  },
  "language_info": {
   "codemirror_mode": {
    "name": "ipython",
    "version": 3
   },
   "file_extension": ".py",
   "mimetype": "text/x-python",
   "name": "python",
   "nbconvert_exporter": "python",
   "pygments_lexer": "ipython3",
   "version": "3.5.2"
  }
 },
 "nbformat": 4,
 "nbformat_minor": 0
}
