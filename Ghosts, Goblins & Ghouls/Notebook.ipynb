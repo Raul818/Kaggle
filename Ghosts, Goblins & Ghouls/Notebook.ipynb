{
 "cells": [
  {
   "cell_type": "code",
   "execution_count": 1,
   "metadata": {
    "collapsed": true
   },
   "outputs": [],
   "source": [
    "#imports\n",
    "import pandas as pd\n",
    "import numpy as np\n",
    "import matplotlib\n",
    "import matplotlib.pyplot as plt\n",
    "import seaborn as sns\n",
    "%matplotlib inline\n",
    "sns.set_style('darkgrid')\n",
    "matplotlib.rc('font', size=20)\n",
    "matplotlib.rc('axes', titlesize=20)\n",
    "matplotlib.rc('axes', labelsize=20)\n",
    "matplotlib.rc('xtick', labelsize=20)\n",
    "matplotlib.rc('ytick', labelsize=20)\n",
    "matplotlib.rc('legend', fontsize=20)\n",
    "matplotlib.rc('figure', titlesize=20)\n",
    "\n",
    "from sklearn.linear_model import LogisticRegression\n",
    "from sklearn.model_selection import GridSearchCV\n",
    "from sklearn.model_selection import StratifiedKFold\n",
    "from sklearn.preprocessing import LabelEncoder\n",
    "from sklearn.metrics import accuracy_score\n",
    "from sklearn.model_selection import train_test_split\n",
    "from sklearn.neural_network import MLPClassifier\n",
    "from sklearn.ensemble import RandomForestClassifier"
   ]
  },
  {
   "cell_type": "code",
   "execution_count": 195,
   "metadata": {
    "collapsed": false
   },
   "outputs": [
    {
     "data": {
      "text/html": [
       "<div>\n",
       "<table border=\"1\" class=\"dataframe\">\n",
       "  <thead>\n",
       "    <tr style=\"text-align: right;\">\n",
       "      <th></th>\n",
       "      <th>id</th>\n",
       "      <th>bone_length</th>\n",
       "      <th>rotting_flesh</th>\n",
       "      <th>hair_length</th>\n",
       "      <th>has_soul</th>\n",
       "      <th>color</th>\n",
       "      <th>type</th>\n",
       "    </tr>\n",
       "  </thead>\n",
       "  <tbody>\n",
       "    <tr>\n",
       "      <th>0</th>\n",
       "      <td>0</td>\n",
       "      <td>0.354512</td>\n",
       "      <td>0.350839</td>\n",
       "      <td>0.465761</td>\n",
       "      <td>0.781142</td>\n",
       "      <td>clear</td>\n",
       "      <td>Ghoul</td>\n",
       "    </tr>\n",
       "    <tr>\n",
       "      <th>1</th>\n",
       "      <td>1</td>\n",
       "      <td>0.575560</td>\n",
       "      <td>0.425868</td>\n",
       "      <td>0.531401</td>\n",
       "      <td>0.439899</td>\n",
       "      <td>green</td>\n",
       "      <td>Goblin</td>\n",
       "    </tr>\n",
       "    <tr>\n",
       "      <th>2</th>\n",
       "      <td>2</td>\n",
       "      <td>0.467875</td>\n",
       "      <td>0.354330</td>\n",
       "      <td>0.811616</td>\n",
       "      <td>0.791225</td>\n",
       "      <td>black</td>\n",
       "      <td>Ghoul</td>\n",
       "    </tr>\n",
       "  </tbody>\n",
       "</table>\n",
       "</div>"
      ],
      "text/plain": [
       "   id  bone_length  rotting_flesh  hair_length  has_soul  color    type\n",
       "0   0     0.354512       0.350839     0.465761  0.781142  clear   Ghoul\n",
       "1   1     0.575560       0.425868     0.531401  0.439899  green  Goblin\n",
       "2   2     0.467875       0.354330     0.811616  0.791225  black   Ghoul"
      ]
     },
     "execution_count": 195,
     "metadata": {},
     "output_type": "execute_result"
    }
   ],
   "source": [
    "#importing data\n",
    "train_DF = pd.read_csv('train.csv')\n",
    "test_DF = pd.read_csv('test.csv')\n",
    "train_DF.head(3)"
   ]
  },
  {
   "cell_type": "code",
   "execution_count": 196,
   "metadata": {
    "collapsed": false
   },
   "outputs": [],
   "source": [
    "indexes = test_DF['id']\n",
    "train_DF.drop(['id'], axis = 1, inplace = True)\n",
    "test_DF.drop(['id'], axis = 1, inplace = True)"
   ]
  },
  {
   "cell_type": "code",
   "execution_count": 197,
   "metadata": {
    "collapsed": false
   },
   "outputs": [
    {
     "data": {
      "text/plain": [
       "<matplotlib.axes._subplots.AxesSubplot at 0x11c1b3d68>"
      ]
     },
     "execution_count": 197,
     "metadata": {},
     "output_type": "execute_result"
    },
    {
     "data": {
      "image/png": "[encoded data removed]",
      "text/plain": [
       "<matplotlib.figure.Figure at 0x11c132fd0>"
      ]
     },
     "metadata": {},
     "output_type": "display_data"
    }
   ],
   "source": [
    "figure, (ax1,ax2) = plt.subplots(1,2, figsize = (15,5))\n",
    "sns.countplot(x = 'type', data = train_DF, ax = ax1)\n",
    "sns.countplot(x = 'type', hue = 'color', data = train_DF, ax = ax2)"
   ]
  },
  {
   "cell_type": "code",
   "execution_count": 198,
   "metadata": {
    "collapsed": false,
    "scrolled": true
   },
   "outputs": [
    {
     "data": {
      "text/plain": [
       "<matplotlib.axes._subplots.AxesSubplot at 0x11c1479e8>"
      ]
     },
     "execution_count": 198,
     "metadata": {},
     "output_type": "execute_result"
    },
    {
     "data": {
      "image/png": "[encoded data removed]",
      "text/plain": [
       "<matplotlib.figure.Figure at 0x11c132f28>"
      ]
     },
     "metadata": {},
     "output_type": "display_data"
    }
   ],
   "source": [
    "corr = train_DF.corr()\n",
    "# Generate a custom diverging colormap\n",
    "cmap = sns.diverging_palette(220, 10, as_cmap=True)\n",
    "# Draw the heatmap with the mask and correct aspect ratio\n",
    "sns.heatmap(corr, cmap=cmap)"
   ]
  },
  {
   "cell_type": "code",
   "execution_count": 199,
   "metadata": {
    "collapsed": false
   },
   "outputs": [
    {
     "data": {
      "text/html": [
       "<div>\n",
       "<table border=\"1\" class=\"dataframe\">\n",
       "  <thead>\n",
       "    <tr style=\"text-align: right;\">\n",
       "      <th></th>\n",
       "      <th>bone_length</th>\n",
       "      <th>rotting_flesh</th>\n",
       "      <th>hair_length</th>\n",
       "      <th>has_soul</th>\n",
       "      <th>hair_soul</th>\n",
       "      <th>hair_bone</th>\n",
       "      <th>soul_bone</th>\n",
       "      <th>color_black</th>\n",
       "      <th>color_blood</th>\n",
       "      <th>color_blue</th>\n",
       "      <th>color_clear</th>\n",
       "      <th>color_green</th>\n",
       "      <th>color_white</th>\n",
       "    </tr>\n",
       "  </thead>\n",
       "  <tbody>\n",
       "    <tr>\n",
       "      <th>0</th>\n",
       "      <td>0.471774</td>\n",
       "      <td>0.387937</td>\n",
       "      <td>0.706087</td>\n",
       "      <td>0.698537</td>\n",
       "      <td>0.493228</td>\n",
       "      <td>0.333114</td>\n",
       "      <td>0.329552</td>\n",
       "      <td>1.0</td>\n",
       "      <td>0.0</td>\n",
       "      <td>0.0</td>\n",
       "      <td>0.0</td>\n",
       "      <td>0.0</td>\n",
       "      <td>0.0</td>\n",
       "    </tr>\n",
       "    <tr>\n",
       "      <th>1</th>\n",
       "      <td>0.427332</td>\n",
       "      <td>0.645024</td>\n",
       "      <td>0.565558</td>\n",
       "      <td>0.451462</td>\n",
       "      <td>0.255328</td>\n",
       "      <td>0.241681</td>\n",
       "      <td>0.192924</td>\n",
       "      <td>0.0</td>\n",
       "      <td>0.0</td>\n",
       "      <td>0.0</td>\n",
       "      <td>0.0</td>\n",
       "      <td>0.0</td>\n",
       "      <td>1.0</td>\n",
       "    </tr>\n",
       "    <tr>\n",
       "      <th>2</th>\n",
       "      <td>0.549602</td>\n",
       "      <td>0.491931</td>\n",
       "      <td>0.660387</td>\n",
       "      <td>0.449809</td>\n",
       "      <td>0.297048</td>\n",
       "      <td>0.362950</td>\n",
       "      <td>0.247216</td>\n",
       "      <td>1.0</td>\n",
       "      <td>0.0</td>\n",
       "      <td>0.0</td>\n",
       "      <td>0.0</td>\n",
       "      <td>0.0</td>\n",
       "      <td>0.0</td>\n",
       "    </tr>\n",
       "    <tr>\n",
       "      <th>3</th>\n",
       "      <td>0.638095</td>\n",
       "      <td>0.682867</td>\n",
       "      <td>0.471409</td>\n",
       "      <td>0.356924</td>\n",
       "      <td>0.168257</td>\n",
       "      <td>0.300804</td>\n",
       "      <td>0.227752</td>\n",
       "      <td>0.0</td>\n",
       "      <td>0.0</td>\n",
       "      <td>0.0</td>\n",
       "      <td>0.0</td>\n",
       "      <td>0.0</td>\n",
       "      <td>1.0</td>\n",
       "    </tr>\n",
       "    <tr>\n",
       "      <th>4</th>\n",
       "      <td>0.361762</td>\n",
       "      <td>0.583997</td>\n",
       "      <td>0.377256</td>\n",
       "      <td>0.276364</td>\n",
       "      <td>0.104260</td>\n",
       "      <td>0.136477</td>\n",
       "      <td>0.099978</td>\n",
       "      <td>1.0</td>\n",
       "      <td>0.0</td>\n",
       "      <td>0.0</td>\n",
       "      <td>0.0</td>\n",
       "      <td>0.0</td>\n",
       "      <td>0.0</td>\n",
       "    </tr>\n",
       "  </tbody>\n",
       "</table>\n",
       "</div>"
      ],
      "text/plain": [
       "   bone_length  rotting_flesh  hair_length  has_soul  hair_soul  hair_bone  \\\n",
       "0     0.471774       0.387937     0.706087  0.698537   0.493228   0.333114   \n",
       "1     0.427332       0.645024     0.565558  0.451462   0.255328   0.241681   \n",
       "2     0.549602       0.491931     0.660387  0.449809   0.297048   0.362950   \n",
       "3     0.638095       0.682867     0.471409  0.356924   0.168257   0.300804   \n",
       "4     0.361762       0.583997     0.377256  0.276364   0.104260   0.136477   \n",
       "\n",
       "   soul_bone  color_black  color_blood  color_blue  color_clear  color_green  \\\n",
       "0   0.329552          1.0          0.0         0.0          0.0          0.0   \n",
       "1   0.192924          0.0          0.0         0.0          0.0          0.0   \n",
       "2   0.247216          1.0          0.0         0.0          0.0          0.0   \n",
       "3   0.227752          0.0          0.0         0.0          0.0          0.0   \n",
       "4   0.099978          1.0          0.0         0.0          0.0          0.0   \n",
       "\n",
       "   color_white  \n",
       "0          0.0  \n",
       "1          1.0  \n",
       "2          0.0  \n",
       "3          1.0  \n",
       "4          0.0  "
      ]
     },
     "execution_count": 199,
     "metadata": {},
     "output_type": "execute_result"
    }
   ],
   "source": [
    "# Create some new feature to make classes more distinct\n",
    "\n",
    "train_DF['hair_soul'] = train_DF['hair_length'] * train_DF['has_soul']\n",
    "train_DF['hair_bone'] = train_DF['hair_length'] * train_DF['bone_length']\n",
    "train_DF['soul_bone'] = train_DF['has_soul'] * train_DF['bone_length']\n",
    "\n",
    "#train['hair_soul_bone'] = train['hair_length'] * train['has_soul'] * train['bone_length']\n",
    "\n",
    "test_DF['hair_soul'] = test_DF['hair_length'] * test_DF['has_soul']\n",
    "test_DF['hair_bone'] = test_DF['hair_length'] * test_DF['bone_length']\n",
    "test_DF['soul_bone'] = test_DF['has_soul'] * test_DF['bone_length']\n",
    "\n",
    "features = [\"bone_length\", \"rotting_flesh\", \"hair_length\", \"has_soul\", \"hair_soul\", \"hair_bone\", \"soul_bone\", \"color\"]\n",
    "X = train_DF[features]\n",
    "X = pd.get_dummies(X)\n",
    "Y = train_DF[\"type\"]\n",
    "X_Test = test_DF[features]\n",
    "X_Test = pd.get_dummies(X_Test)\n",
    "X_Test.head()"
   ]
  },
  {
   "cell_type": "code",
   "execution_count": 200,
   "metadata": {
    "collapsed": false
   },
   "outputs": [
    {
     "name": "stdout",
     "output_type": "stream",
     "text": [
      "(296, 13)\n",
      "(296,)\n"
     ]
    },
    {
     "data": {
      "text/html": [
       "<div>\n",
       "<table border=\"1\" class=\"dataframe\">\n",
       "  <thead>\n",
       "    <tr style=\"text-align: right;\">\n",
       "      <th></th>\n",
       "      <th>bone_length</th>\n",
       "      <th>rotting_flesh</th>\n",
       "      <th>hair_length</th>\n",
       "      <th>has_soul</th>\n",
       "      <th>hair_soul</th>\n",
       "      <th>hair_bone</th>\n",
       "      <th>soul_bone</th>\n",
       "      <th>color_black</th>\n",
       "      <th>color_blood</th>\n",
       "      <th>color_blue</th>\n",
       "      <th>color_clear</th>\n",
       "      <th>color_green</th>\n",
       "      <th>color_white</th>\n",
       "    </tr>\n",
       "  </thead>\n",
       "  <tbody>\n",
       "    <tr>\n",
       "      <th>242</th>\n",
       "      <td>0.367799</td>\n",
       "      <td>0.637446</td>\n",
       "      <td>0.416354</td>\n",
       "      <td>0.415930</td>\n",
       "      <td>0.173174</td>\n",
       "      <td>0.153134</td>\n",
       "      <td>0.152979</td>\n",
       "      <td>0.0</td>\n",
       "      <td>0.0</td>\n",
       "      <td>0.0</td>\n",
       "      <td>1.0</td>\n",
       "      <td>0.0</td>\n",
       "      <td>0.0</td>\n",
       "    </tr>\n",
       "    <tr>\n",
       "      <th>204</th>\n",
       "      <td>0.272523</td>\n",
       "      <td>0.389352</td>\n",
       "      <td>0.164074</td>\n",
       "      <td>0.594088</td>\n",
       "      <td>0.097474</td>\n",
       "      <td>0.044714</td>\n",
       "      <td>0.161903</td>\n",
       "      <td>0.0</td>\n",
       "      <td>0.0</td>\n",
       "      <td>0.0</td>\n",
       "      <td>0.0</td>\n",
       "      <td>0.0</td>\n",
       "      <td>1.0</td>\n",
       "    </tr>\n",
       "    <tr>\n",
       "      <th>53</th>\n",
       "      <td>0.627652</td>\n",
       "      <td>0.840049</td>\n",
       "      <td>0.414816</td>\n",
       "      <td>0.488617</td>\n",
       "      <td>0.202686</td>\n",
       "      <td>0.260360</td>\n",
       "      <td>0.306682</td>\n",
       "      <td>0.0</td>\n",
       "      <td>0.0</td>\n",
       "      <td>0.0</td>\n",
       "      <td>0.0</td>\n",
       "      <td>1.0</td>\n",
       "      <td>0.0</td>\n",
       "    </tr>\n",
       "    <tr>\n",
       "      <th>328</th>\n",
       "      <td>0.396988</td>\n",
       "      <td>0.611109</td>\n",
       "      <td>0.507214</td>\n",
       "      <td>0.179642</td>\n",
       "      <td>0.091117</td>\n",
       "      <td>0.201358</td>\n",
       "      <td>0.071316</td>\n",
       "      <td>0.0</td>\n",
       "      <td>1.0</td>\n",
       "      <td>0.0</td>\n",
       "      <td>0.0</td>\n",
       "      <td>0.0</td>\n",
       "      <td>0.0</td>\n",
       "    </tr>\n",
       "    <tr>\n",
       "      <th>27</th>\n",
       "      <td>0.492438</td>\n",
       "      <td>0.623197</td>\n",
       "      <td>0.604879</td>\n",
       "      <td>0.376142</td>\n",
       "      <td>0.227520</td>\n",
       "      <td>0.297866</td>\n",
       "      <td>0.185226</td>\n",
       "      <td>0.0</td>\n",
       "      <td>0.0</td>\n",
       "      <td>0.0</td>\n",
       "      <td>0.0</td>\n",
       "      <td>1.0</td>\n",
       "      <td>0.0</td>\n",
       "    </tr>\n",
       "  </tbody>\n",
       "</table>\n",
       "</div>"
      ],
      "text/plain": [
       "     bone_length  rotting_flesh  hair_length  has_soul  hair_soul  hair_bone  \\\n",
       "242     0.367799       0.637446     0.416354  0.415930   0.173174   0.153134   \n",
       "204     0.272523       0.389352     0.164074  0.594088   0.097474   0.044714   \n",
       "53      0.627652       0.840049     0.414816  0.488617   0.202686   0.260360   \n",
       "328     0.396988       0.611109     0.507214  0.179642   0.091117   0.201358   \n",
       "27      0.492438       0.623197     0.604879  0.376142   0.227520   0.297866   \n",
       "\n",
       "     soul_bone  color_black  color_blood  color_blue  color_clear  \\\n",
       "242   0.152979          0.0          0.0         0.0          1.0   \n",
       "204   0.161903          0.0          0.0         0.0          0.0   \n",
       "53    0.306682          0.0          0.0         0.0          0.0   \n",
       "328   0.071316          0.0          1.0         0.0          0.0   \n",
       "27    0.185226          0.0          0.0         0.0          0.0   \n",
       "\n",
       "     color_green  color_white  \n",
       "242          0.0          0.0  \n",
       "204          0.0          1.0  \n",
       "53           1.0          0.0  \n",
       "328          0.0          0.0  \n",
       "27           1.0          0.0  "
      ]
     },
     "execution_count": 200,
     "metadata": {},
     "output_type": "execute_result"
    }
   ],
   "source": [
    "leY = LabelEncoder()\n",
    "Y = leY.fit_transform(Y)\n",
    "\n",
    "X,Xcv,Y,Ycv = train_test_split(X,Y, test_size = 0.20, random_state = 36)\n",
    "print (X.shape)\n",
    "print(Y.shape)\n",
    "X.head()"
   ]
  },
  {
   "cell_type": "code",
   "execution_count": 201,
   "metadata": {
    "collapsed": false
   },
   "outputs": [
    {
     "name": "stdout",
     "output_type": "stream",
     "text": [
      "Best score: 0.6891891891891891\n",
      "Best parameters: {'C': 1, 'solver': 'newton-cg', 'tol': 0.0001, 'multi_class': 'multinomial'}\n"
     ]
    }
   ],
   "source": [
    "logreg = LogisticRegression()\n",
    "\n",
    "parameter_grid = {'solver' : ['newton-cg', 'lbfgs'],\n",
    "                  'multi_class' : ['multinomial'],\n",
    "                  'C' : [0.005, 0.01, 1, 10],\n",
    "                  'tol': [0.0001, 0.001, 0.005, 0.01]\n",
    "                 }\n",
    "\n",
    "grid_search_logit = GridSearchCV(logreg, param_grid=parameter_grid, cv=StratifiedKFold(3))\n",
    "grid_search_logit.fit(X, Y)\n",
    "\n",
    "print('Best score: {}'.format(grid_search_logit.best_score_))\n",
    "print('Best parameters: {}'.format(grid_search_logit.best_params_))"
   ]
  },
  {
   "cell_type": "code",
   "execution_count": 202,
   "metadata": {
    "collapsed": false
   },
   "outputs": [
    {
     "data": {
      "text/plain": [
       "0.66666666666666663"
      ]
     },
     "execution_count": 202,
     "metadata": {},
     "output_type": "execute_result"
    }
   ],
   "source": [
    "Ycv2 = grid_search_logit.predict(Xcv)\n",
    "accuracy_score(Ycv,Ycv2)"
   ]
  },
  {
   "cell_type": "code",
   "execution_count": 203,
   "metadata": {
    "collapsed": false
   },
   "outputs": [],
   "source": [
    "import xgboost as xgb\n",
    "dtrain = xgb.DMatrix(X, label = Y)\n",
    "dtest = xgb.DMatrix(X_Test)\n",
    "\n",
    "params = {\"max_depth\":3, \"eta\":0.0001, 'nthread':6, 'gamma':0.1}\n",
    "model = xgb.cv(params, dtrain,  num_boost_round=500, early_stopping_rounds=100)"
   ]
  },
  {
   "cell_type": "code",
   "execution_count": 204,
   "metadata": {
    "collapsed": false
   },
   "outputs": [
    {
     "data": {
      "text/plain": [
       "<matplotlib.axes._subplots.AxesSubplot at 0x11c5d5dd8>"
      ]
     },
     "execution_count": 204,
     "metadata": {},
     "output_type": "execute_result"
    },
    {
     "data": {
      "image/png": "[encoded data removed]",
      "text/plain": [
       "<matplotlib.figure.Figure at 0x11c132940>"
      ]
     },
     "metadata": {},
     "output_type": "display_data"
    }
   ],
   "source": [
    "model.loc[30:,[\"test-rmse-mean\", \"train-rmse-mean\"]].plot()"
   ]
  },
  {
   "cell_type": "code",
   "execution_count": 205,
   "metadata": {
    "collapsed": false
   },
   "outputs": [
    {
     "data": {
      "text/plain": [
       "XGBClassifier(base_score=0.5, colsample_bylevel=1, colsample_bytree=1,\n",
       "       gamma=0.1, learning_rate=0.0001, max_delta_step=0, max_depth=3,\n",
       "       min_child_weight=1, missing=None, n_estimators=360, nthread=6,\n",
       "       objective='multi:softprob', reg_alpha=0, reg_lambda=1,\n",
       "       scale_pos_weight=1, seed=0, silent=True, subsample=1)"
      ]
     },
     "execution_count": 205,
     "metadata": {},
     "output_type": "execute_result"
    }
   ],
   "source": [
    "model = xgb.XGBClassifier(learning_rate=0.0001, n_estimators=360, max_depth=3, nthread=6, gamma=0.1)\n",
    "model.fit(X,Y)"
   ]
  },
  {
   "cell_type": "code",
   "execution_count": 206,
   "metadata": {
    "collapsed": false
   },
   "outputs": [
    {
     "data": {
      "text/plain": [
       "0.69333333333333336"
      ]
     },
     "execution_count": 206,
     "metadata": {},
     "output_type": "execute_result"
    }
   ],
   "source": [
    "model.score(Xcv,Ycv)"
   ]
  },
  {
   "cell_type": "code",
   "execution_count": 207,
   "metadata": {
    "collapsed": false
   },
   "outputs": [],
   "source": [
    "Y_pred = model.predict(X_Test)"
   ]
  },
  {
   "cell_type": "code",
   "execution_count": 208,
   "metadata": {
    "collapsed": false
   },
   "outputs": [
    {
     "data": {
      "text/plain": [
       "array(['Ghoul', 'Goblin', 'Ghoul', 'Ghost', 'Ghost', 'Ghost', 'Ghoul',\n",
       "       'Goblin', 'Ghost', 'Ghoul', 'Ghost', 'Ghoul', 'Ghost', 'Ghost',\n",
       "       'Ghoul', 'Ghost', 'Goblin', 'Ghost', 'Ghost', 'Ghoul', 'Goblin',\n",
       "       'Goblin', 'Ghoul', 'Ghost', 'Ghoul', 'Goblin', 'Ghoul', 'Goblin',\n",
       "       'Ghoul', 'Ghoul', 'Goblin', 'Ghoul', 'Ghoul', 'Goblin', 'Goblin',\n",
       "       'Ghoul', 'Ghost', 'Ghoul', 'Ghost', 'Goblin', 'Ghost', 'Goblin',\n",
       "       'Goblin', 'Goblin', 'Goblin', 'Ghoul', 'Ghoul', 'Goblin', 'Ghoul',\n",
       "       'Ghost', 'Goblin', 'Goblin', 'Ghost', 'Goblin', 'Ghost', 'Ghost',\n",
       "       'Goblin', 'Goblin', 'Ghoul', 'Ghost', 'Ghoul', 'Goblin', 'Ghost',\n",
       "       'Goblin', 'Ghoul', 'Ghoul', 'Goblin', 'Goblin', 'Ghost', 'Ghoul',\n",
       "       'Ghost', 'Goblin', 'Ghoul', 'Ghoul', 'Ghoul', 'Ghoul', 'Ghoul',\n",
       "       'Ghoul', 'Ghost', 'Goblin', 'Ghost', 'Goblin', 'Ghoul', 'Goblin',\n",
       "       'Ghost', 'Ghost', 'Ghost', 'Goblin', 'Ghost', 'Ghost', 'Ghost',\n",
       "       'Ghost', 'Goblin', 'Ghost', 'Ghost', 'Ghost', 'Ghost', 'Ghost',\n",
       "       'Ghoul', 'Ghost', 'Ghoul', 'Goblin', 'Goblin', 'Ghost', 'Ghoul',\n",
       "       'Goblin', 'Goblin', 'Ghost', 'Ghoul', 'Ghoul', 'Goblin', 'Goblin',\n",
       "       'Ghost', 'Goblin', 'Ghoul', 'Ghost', 'Ghost', 'Goblin', 'Ghoul',\n",
       "       'Ghost', 'Ghoul', 'Ghost', 'Ghost', 'Goblin', 'Ghoul', 'Ghost',\n",
       "       'Ghost', 'Ghost', 'Ghoul', 'Ghoul', 'Ghost', 'Goblin', 'Goblin',\n",
       "       'Goblin', 'Ghost', 'Goblin', 'Ghoul', 'Ghoul', 'Goblin', 'Ghost',\n",
       "       'Ghoul', 'Ghost', 'Ghost', 'Ghoul', 'Ghoul', 'Ghost', 'Ghoul',\n",
       "       'Goblin', 'Ghost', 'Ghost', 'Goblin', 'Ghoul', 'Goblin', 'Goblin',\n",
       "       'Goblin', 'Ghost', 'Ghoul', 'Ghoul', 'Ghost', 'Ghoul', 'Ghoul',\n",
       "       'Goblin', 'Ghoul', 'Goblin', 'Ghost', 'Ghost', 'Goblin', 'Ghost',\n",
       "       'Goblin', 'Ghost', 'Ghost', 'Ghoul', 'Ghost', 'Ghoul', 'Ghoul',\n",
       "       'Ghoul', 'Ghost', 'Ghoul', 'Ghoul', 'Ghoul', 'Ghost', 'Goblin',\n",
       "       'Ghoul', 'Ghost', 'Ghost', 'Goblin', 'Ghoul', 'Goblin', 'Ghoul',\n",
       "       'Ghost', 'Ghost', 'Ghoul', 'Goblin', 'Ghost', 'Ghoul', 'Goblin',\n",
       "       'Goblin', 'Goblin', 'Ghoul', 'Ghoul', 'Ghost', 'Ghost', 'Goblin',\n",
       "       'Ghost', 'Goblin', 'Ghost', 'Goblin', 'Goblin', 'Goblin', 'Ghoul',\n",
       "       'Ghost', 'Goblin', 'Ghost', 'Ghost', 'Goblin', 'Goblin', 'Ghoul',\n",
       "       'Ghost', 'Ghoul', 'Goblin', 'Goblin', 'Goblin', 'Goblin', 'Ghoul',\n",
       "       'Goblin', 'Ghost', 'Ghost', 'Ghost', 'Goblin', 'Ghost', 'Ghost',\n",
       "       'Goblin', 'Ghost', 'Ghost', 'Ghost', 'Goblin', 'Ghost', 'Ghoul',\n",
       "       'Goblin', 'Goblin', 'Ghost', 'Ghost', 'Ghost', 'Ghost', 'Goblin',\n",
       "       'Ghost', 'Goblin', 'Ghost', 'Ghost', 'Goblin', 'Ghost', 'Ghost',\n",
       "       'Ghost', 'Ghoul', 'Ghoul', 'Ghoul', 'Ghost', 'Ghoul', 'Ghost',\n",
       "       'Ghost', 'Ghost', 'Goblin', 'Ghost', 'Goblin', 'Ghost', 'Ghoul',\n",
       "       'Ghoul', 'Ghoul', 'Ghost', 'Ghost', 'Ghoul', 'Goblin', 'Ghost',\n",
       "       'Goblin', 'Ghoul', 'Ghoul', 'Goblin', 'Goblin', 'Goblin', 'Ghost',\n",
       "       'Ghost', 'Ghost', 'Ghoul', 'Goblin', 'Ghoul', 'Ghoul', 'Ghost',\n",
       "       'Ghoul', 'Ghost', 'Ghost', 'Ghoul', 'Ghost', 'Ghoul', 'Goblin',\n",
       "       'Goblin', 'Goblin', 'Ghost', 'Goblin', 'Ghost', 'Ghoul', 'Ghoul',\n",
       "       'Ghost', 'Ghost', 'Ghost', 'Goblin', 'Ghoul', 'Goblin', 'Ghost',\n",
       "       'Ghost', 'Goblin', 'Ghoul', 'Ghoul', 'Goblin', 'Ghost', 'Ghost',\n",
       "       'Goblin', 'Goblin', 'Ghost', 'Ghost', 'Ghoul', 'Ghost', 'Goblin',\n",
       "       'Ghoul', 'Ghoul', 'Ghost', 'Ghost', 'Ghost', 'Goblin', 'Ghost',\n",
       "       'Ghoul', 'Ghoul', 'Ghoul', 'Goblin', 'Ghost', 'Ghost', 'Goblin',\n",
       "       'Goblin', 'Ghoul', 'Goblin', 'Goblin', 'Ghoul', 'Ghoul', 'Goblin',\n",
       "       'Goblin', 'Ghost', 'Goblin', 'Ghost', 'Goblin', 'Ghost', 'Ghoul',\n",
       "       'Goblin', 'Ghost', 'Ghoul', 'Ghost', 'Goblin', 'Goblin', 'Goblin',\n",
       "       'Ghost', 'Ghost', 'Ghoul', 'Goblin', 'Ghost', 'Goblin', 'Ghost',\n",
       "       'Goblin', 'Ghoul', 'Ghoul', 'Goblin', 'Ghoul', 'Goblin', 'Ghost',\n",
       "       'Ghost', 'Ghoul', 'Ghost', 'Ghost', 'Ghost', 'Goblin', 'Ghost',\n",
       "       'Goblin', 'Ghoul', 'Goblin', 'Ghost', 'Ghost', 'Ghost', 'Goblin',\n",
       "       'Ghost', 'Ghost', 'Ghost', 'Goblin', 'Ghost', 'Ghoul', 'Goblin',\n",
       "       'Ghost', 'Goblin', 'Goblin', 'Ghoul', 'Ghoul', 'Goblin', 'Goblin',\n",
       "       'Goblin', 'Ghost', 'Ghoul', 'Ghoul', 'Ghoul', 'Ghost', 'Ghoul',\n",
       "       'Ghoul', 'Ghost', 'Goblin', 'Ghost', 'Ghost', 'Ghost', 'Ghoul',\n",
       "       'Ghost', 'Ghoul', 'Ghost', 'Goblin', 'Ghoul', 'Goblin', 'Ghost',\n",
       "       'Ghost', 'Ghoul', 'Ghoul', 'Goblin', 'Ghost', 'Ghost', 'Ghoul',\n",
       "       'Goblin', 'Goblin', 'Ghost', 'Goblin', 'Goblin', 'Goblin', 'Goblin',\n",
       "       'Ghost', 'Goblin', 'Goblin', 'Ghost', 'Ghoul', 'Ghost', 'Ghoul',\n",
       "       'Ghoul', 'Ghost', 'Ghost', 'Ghost', 'Ghoul', 'Ghost', 'Ghoul',\n",
       "       'Goblin', 'Goblin', 'Ghoul', 'Ghoul', 'Goblin', 'Ghoul', 'Goblin',\n",
       "       'Goblin', 'Goblin', 'Ghost', 'Goblin', 'Goblin', 'Ghost', 'Ghost',\n",
       "       'Goblin', 'Ghoul', 'Goblin', 'Ghoul', 'Goblin', 'Ghoul', 'Ghoul',\n",
       "       'Ghost', 'Ghoul', 'Ghoul', 'Ghoul', 'Goblin', 'Ghost', 'Ghost',\n",
       "       'Ghoul', 'Ghost', 'Ghost', 'Goblin', 'Goblin', 'Goblin', 'Ghost',\n",
       "       'Goblin', 'Goblin', 'Goblin', 'Ghost', 'Ghost', 'Ghost', 'Ghoul',\n",
       "       'Ghost', 'Goblin', 'Ghoul', 'Ghost', 'Ghoul', 'Ghost', 'Ghoul',\n",
       "       'Ghoul', 'Ghoul', 'Ghost', 'Goblin', 'Ghost', 'Ghost', 'Goblin',\n",
       "       'Ghoul', 'Goblin', 'Ghoul', 'Ghost', 'Goblin', 'Goblin', 'Goblin',\n",
       "       'Goblin', 'Ghost', 'Ghost', 'Ghoul', 'Ghoul', 'Ghoul', 'Goblin',\n",
       "       'Goblin', 'Ghost', 'Ghoul', 'Ghoul', 'Ghoul', 'Ghoul', 'Goblin',\n",
       "       'Ghost', 'Ghoul', 'Ghost', 'Ghost'], dtype=object)"
      ]
     },
     "execution_count": 208,
     "metadata": {},
     "output_type": "execute_result"
    }
   ],
   "source": [
    "pred = leY.inverse_transform(Y_pred)\n",
    "pred"
   ]
  },
  {
   "cell_type": "code",
   "execution_count": 209,
   "metadata": {
    "collapsed": true
   },
   "outputs": [],
   "source": [
    "clf = MLPClassifier(solver = 'lbfgs', alpha = 0.0001, hidden_layer_sizes=(25), random_state= 1)"
   ]
  },
  {
   "cell_type": "code",
   "execution_count": 210,
   "metadata": {
    "collapsed": false
   },
   "outputs": [
    {
     "data": {
      "text/plain": [
       "MLPClassifier(activation='relu', alpha=0.0001, batch_size='auto', beta_1=0.9,\n",
       "       beta_2=0.999, early_stopping=False, epsilon=1e-08,\n",
       "       hidden_layer_sizes=25, learning_rate='constant',\n",
       "       learning_rate_init=0.001, max_iter=200, momentum=0.9,\n",
       "       nesterovs_momentum=True, power_t=0.5, random_state=1, shuffle=True,\n",
       "       solver='lbfgs', tol=0.0001, validation_fraction=0.1, verbose=False,\n",
       "       warm_start=False)"
      ]
     },
     "execution_count": 210,
     "metadata": {},
     "output_type": "execute_result"
    }
   ],
   "source": [
    "clf.fit(X,Y)"
   ]
  },
  {
   "cell_type": "code",
   "execution_count": 211,
   "metadata": {
    "collapsed": false
   },
   "outputs": [
    {
     "data": {
      "text/plain": [
       "0.76000000000000001"
      ]
     },
     "execution_count": 211,
     "metadata": {},
     "output_type": "execute_result"
    }
   ],
   "source": [
    "clf.score(Xcv,Ycv)"
   ]
  },
  {
   "cell_type": "code",
   "execution_count": 181,
   "metadata": {
    "collapsed": false
   },
   "outputs": [],
   "source": [
    "Y_pred = clf.predict(X_Test)\n",
    "pred = leY.inverse_transform(Y_pred)"
   ]
  },
  {
   "cell_type": "code",
   "execution_count": 182,
   "metadata": {
    "collapsed": true
   },
   "outputs": [],
   "source": [
    "submission = pd.DataFrame({'id':indexes,\n",
    "                           'type':pred})\n",
    "submission.to_csv('submission.csv', index=False)"
   ]
  },
  {
   "cell_type": "code",
   "execution_count": 183,
   "metadata": {
    "collapsed": false
   },
   "outputs": [],
   "source": [
    "rg = RandomForestClassifier(n_estimators=42, max_depth=4, min_samples_split=3)"
   ]
  },
  {
   "cell_type": "code",
   "execution_count": 184,
   "metadata": {
    "collapsed": false
   },
   "outputs": [
    {
     "data": {
      "text/plain": [
       "RandomForestClassifier(bootstrap=True, class_weight=None, criterion='gini',\n",
       "            max_depth=4, max_features='auto', max_leaf_nodes=None,\n",
       "            min_impurity_split=1e-07, min_samples_leaf=1,\n",
       "            min_samples_split=3, min_weight_fraction_leaf=0.0,\n",
       "            n_estimators=42, n_jobs=1, oob_score=False, random_state=None,\n",
       "            verbose=0, warm_start=False)"
      ]
     },
     "execution_count": 184,
     "metadata": {},
     "output_type": "execute_result"
    }
   ],
   "source": [
    "rg.fit(X,Y)"
   ]
  },
  {
   "cell_type": "code",
   "execution_count": 185,
   "metadata": {
    "collapsed": false
   },
   "outputs": [
    {
     "data": {
      "text/plain": [
       "0.70666666666666667"
      ]
     },
     "execution_count": 185,
     "metadata": {},
     "output_type": "execute_result"
    }
   ],
   "source": [
    "rg.score(Xcv,Ycv)"
   ]
  },
  {
   "cell_type": "code",
   "execution_count": 186,
   "metadata": {
    "collapsed": true
   },
   "outputs": [],
   "source": [
    "Y_pred = rg.predict(X_Test)\n",
    "pred = leY.inverse_transform(Y_pred)"
   ]
  },
  {
   "cell_type": "code",
   "execution_count": 187,
   "metadata": {
    "collapsed": true
   },
   "outputs": [],
   "source": [
    "submission = pd.DataFrame({'id':indexes,\n",
    "                           'type':pred})\n",
    "submission.to_csv('submission.csv', index=False)\n",
    "#Currently Known to Provide the best accuracy on Test Data"
   ]
  },
  {
   "cell_type": "code",
   "execution_count": null,
   "metadata": {
    "collapsed": true
   },
   "outputs": [],
   "source": [
    "#Max Accuracy Achieved by MLPClassifier: 76%"
   ]
  }
 ],
 "metadata": {
  "anaconda-cloud": {},
  "kernelspec": {
   "display_name": "Python [Root]",
   "language": "python",
   "name": "Python [Root]"
  },
  "language_info": {
   "codemirror_mode": {
    "name": "ipython",
    "version": 3
   },
   "file_extension": ".py",
   "mimetype": "text/x-python",
   "name": "python",
   "nbconvert_exporter": "python",
   "pygments_lexer": "ipython3",
   "version": "3.5.2"
  }
 },
 "nbformat": 4,
 "nbformat_minor": 0
}
