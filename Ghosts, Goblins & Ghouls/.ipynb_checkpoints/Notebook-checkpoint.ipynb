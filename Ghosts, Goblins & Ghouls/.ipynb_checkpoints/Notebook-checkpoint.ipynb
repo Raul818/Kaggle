{
 "cells": [
  {
   "cell_type": "code",
   "execution_count": 1,
   "metadata": {
    "collapsed": true
   },
   "outputs": [],
   "source": [
    "#imports\n",
    "import pandas as pd\n",
    "import numpy as np\n",
    "import matplotlib\n",
    "import matplotlib.pyplot as plt\n",
    "import seaborn as sns\n",
    "%matplotlib inline\n",
    "sns.set_style('whitegrid')\n",
    "\n",
    "#ML Imports\n",
    "from sklearn.linear_model import LogisticRegression\n",
    "from sklearn.model_selection import GridSearchCV\n",
    "from sklearn.model_selection import StratifiedKFold\n",
    "from sklearn.preprocessing import LabelEncoder\n",
    "from sklearn.metrics import accuracy_score\n",
    "from sklearn.model_selection import train_test_split\n",
    "from sklearn.neural_network import MLPClassifier"
   ]
  },
  {
   "cell_type": "code",
   "execution_count": 2,
   "metadata": {
    "collapsed": false
   },
   "outputs": [
    {
     "data": {
      "text/html": [
       "<div>\n",
       "<table border=\"1\" class=\"dataframe\">\n",
       "  <thead>\n",
       "    <tr style=\"text-align: right;\">\n",
       "      <th></th>\n",
       "      <th>id</th>\n",
       "      <th>bone_length</th>\n",
       "      <th>rotting_flesh</th>\n",
       "      <th>hair_length</th>\n",
       "      <th>has_soul</th>\n",
       "      <th>color</th>\n",
       "      <th>type</th>\n",
       "    </tr>\n",
       "  </thead>\n",
       "  <tbody>\n",
       "    <tr>\n",
       "      <th>0</th>\n",
       "      <td>0</td>\n",
       "      <td>0.354512</td>\n",
       "      <td>0.350839</td>\n",
       "      <td>0.465761</td>\n",
       "      <td>0.781142</td>\n",
       "      <td>clear</td>\n",
       "      <td>Ghoul</td>\n",
       "    </tr>\n",
       "    <tr>\n",
       "      <th>1</th>\n",
       "      <td>1</td>\n",
       "      <td>0.575560</td>\n",
       "      <td>0.425868</td>\n",
       "      <td>0.531401</td>\n",
       "      <td>0.439899</td>\n",
       "      <td>green</td>\n",
       "      <td>Goblin</td>\n",
       "    </tr>\n",
       "    <tr>\n",
       "      <th>2</th>\n",
       "      <td>2</td>\n",
       "      <td>0.467875</td>\n",
       "      <td>0.354330</td>\n",
       "      <td>0.811616</td>\n",
       "      <td>0.791225</td>\n",
       "      <td>black</td>\n",
       "      <td>Ghoul</td>\n",
       "    </tr>\n",
       "  </tbody>\n",
       "</table>\n",
       "</div>"
      ],
      "text/plain": [
       "   id  bone_length  rotting_flesh  hair_length  has_soul  color    type\n",
       "0   0     0.354512       0.350839     0.465761  0.781142  clear   Ghoul\n",
       "1   1     0.575560       0.425868     0.531401  0.439899  green  Goblin\n",
       "2   2     0.467875       0.354330     0.811616  0.791225  black   Ghoul"
      ]
     },
     "execution_count": 2,
     "metadata": {},
     "output_type": "execute_result"
    }
   ],
   "source": [
    "#importing data\n",
    "train_DF = pd.read_csv('train.csv')\n",
    "test_DF = pd.read_csv('test.csv')\n",
    "train_DF.head(3)"
   ]
  },
  {
   "cell_type": "code",
   "execution_count": 3,
   "metadata": {
    "collapsed": false
   },
   "outputs": [],
   "source": [
    "indexes = test_DF['id']\n",
    "train_DF.drop(['id'], axis = 1, inplace = True)\n",
    "test_DF.drop(['id'], axis = 1, inplace = True)"
   ]
  },
  {
   "cell_type": "code",
   "execution_count": 4,
   "metadata": {
    "collapsed": false
   },
   "outputs": [
    {
     "data": {
      "text/plain": [
       "<matplotlib.axes._subplots.AxesSubplot at 0x117fb6668>"
      ]
     },
     "execution_count": 4,
     "metadata": {},
     "output_type": "execute_result"
    },
    {
     "data": {
      "image/png": "[encoded data removed]",
      "text/plain": [
       "<matplotlib.figure.Figure at 0x117ee5668>"
      ]
     },
     "metadata": {},
     "output_type": "display_data"
    }
   ],
   "source": [
    "figure, (ax1,ax2) = plt.subplots(1,2, figsize = (15,5))\n",
    "sns.countplot(x = 'type', data = train_DF, ax = ax1)\n",
    "sns.countplot(x = 'type', hue = 'color', data = train_DF, ax = ax2)"
   ]
  },
  {
   "cell_type": "code",
   "execution_count": 5,
   "metadata": {
    "collapsed": false,
    "scrolled": true
   },
   "outputs": [
    {
     "data": {
      "text/plain": [
       "<matplotlib.axes._subplots.AxesSubplot at 0x117f10160>"
      ]
     },
     "execution_count": 5,
     "metadata": {},
     "output_type": "execute_result"
    },
    {
     "data": {
      "image/png": "[encoded data removed]",
      "text/plain": [
       "<matplotlib.figure.Figure at 0x117ee56d8>"
      ]
     },
     "metadata": {},
     "output_type": "display_data"
    }
   ],
   "source": [
    "corr = train_DF.corr()\n",
    "# Generate a custom diverging colormap\n",
    "cmap = sns.diverging_palette(220, 10, as_cmap=True)\n",
    "# Draw the heatmap with the mask and correct aspect ratio\n",
    "sns.heatmap(corr, cmap=cmap)"
   ]
  },
  {
   "cell_type": "code",
   "execution_count": null,
   "metadata": {
    "collapsed": true
   },
   "outputs": [],
   "source": [
    "# Create some new feature to make classes more distinct\n",
    "\n",
    "train_DF['hair_soul'] = train_DF['hair_length'] * train_DF['has_soul']\n",
    "train_DF['hair_bone'] = train_DF['hair_length'] * train_DF['bone_length']\n",
    "train_DF['soul_bone'] = train_DF['has_soul'] * train_DF['bone_length']\n",
    "\n",
    "#train['hair_soul_bone'] = train['hair_length'] * train['has_soul'] * train['bone_length']\n",
    "\n",
    "test_DF['hair_soul'] = test_DF['hair_length'] * test_DF['has_soul']\n",
    "test_DF['hair_bone'] = test_DF['hair_length'] * test_DF['bone_length']\n",
    "test_DF['soul_bone'] = test_DF['has_soul'] * test_DF['bone_length']"
   ]
  },
  {
   "cell_type": "code",
   "execution_count": 217,
   "metadata": {
    "collapsed": false
   },
   "outputs": [
    {
     "name": "stdout",
     "output_type": "stream",
     "text": [
      "(296, 10)\n",
      "(296,)\n"
     ]
    }
   ],
   "source": [
    "Y = train_DF['type']\n",
    "train_DF.drop(['type'], axis = 1, inplace = True)\n",
    "train_DF = pd.get_dummies(train_DF)\n",
    "test_DF = pd.get_dummies(test_DF)\n",
    "X = train_DF\n",
    "X_test = test_DF\n",
    "leY = LabelEncoder()\n",
    "Y = leY.fit_transform(Y)\n",
    "\n",
    "X,Xcv,Y,Ycv = train_test_split(X,Y, test_size = 0.20, random_state = 36)\n",
    "print (X.shape)\n",
    "print(Y.shape)"
   ]
  },
  {
   "cell_type": "code",
   "execution_count": 218,
   "metadata": {
    "collapsed": false
   },
   "outputs": [
    {
     "name": "stdout",
     "output_type": "stream",
     "text": [
      "Best score: 0.6993243243243243\n",
      "Best parameters: {'C': 1, 'solver': 'newton-cg', 'tol': 0.0001, 'multi_class': 'multinomial'}\n"
     ]
    }
   ],
   "source": [
    "logreg = LogisticRegression()\n",
    "\n",
    "parameter_grid = {'solver' : ['newton-cg', 'lbfgs'],\n",
    "                  'multi_class' : ['multinomial'],\n",
    "                  'C' : [0.005, 0.01, 1, 10],\n",
    "                  'tol': [0.0001, 0.001, 0.005, 0.01]\n",
    "                 }\n",
    "\n",
    "grid_search_logit = GridSearchCV(logreg, param_grid=parameter_grid, cv=StratifiedKFold(3))\n",
    "grid_search_logit.fit(X, Y)\n",
    "\n",
    "print('Best score: {}'.format(grid_search_logit.best_score_))\n",
    "print('Best parameters: {}'.format(grid_search_logit.best_params_))"
   ]
  },
  {
   "cell_type": "code",
   "execution_count": 219,
   "metadata": {
    "collapsed": false
   },
   "outputs": [
    {
     "data": {
      "text/plain": [
       "0.68000000000000005"
      ]
     },
     "execution_count": 219,
     "metadata": {},
     "output_type": "execute_result"
    }
   ],
   "source": [
    "Ycv2 = grid_search_logit.predict(Xcv)\n",
    "accuracy_score(Ycv,Ycv2)"
   ]
  },
  {
   "cell_type": "code",
   "execution_count": 220,
   "metadata": {
    "collapsed": false
   },
   "outputs": [],
   "source": [
    "import xgboost as xgb\n",
    "dtrain = xgb.DMatrix(X, label = Y)\n",
    "dtest = xgb.DMatrix(X_test)\n",
    "\n",
    "params = {\"max_depth\":3, \"eta\":0.0001, 'nthread':6, 'gamma':0.1}\n",
    "model = xgb.cv(params, dtrain,  num_boost_round=500, early_stopping_rounds=100)"
   ]
  },
  {
   "cell_type": "code",
   "execution_count": 221,
   "metadata": {
    "collapsed": false
   },
   "outputs": [
    {
     "data": {
      "text/plain": [
       "<matplotlib.axes._subplots.AxesSubplot at 0x123531198>"
      ]
     },
     "execution_count": 221,
     "metadata": {},
     "output_type": "execute_result"
    },
    {
     "data": {
      "image/png": "[encoded data removed]",
      "text/plain": [
       "<matplotlib.figure.Figure at 0x123188470>"
      ]
     },
     "metadata": {},
     "output_type": "display_data"
    }
   ],
   "source": [
    "model.loc[30:,[\"test-rmse-mean\", \"train-rmse-mean\"]].plot()"
   ]
  },
  {
   "cell_type": "code",
   "execution_count": 222,
   "metadata": {
    "collapsed": false
   },
   "outputs": [
    {
     "data": {
      "text/plain": [
       "XGBClassifier(base_score=0.5, colsample_bylevel=1, colsample_bytree=1,\n",
       "       gamma=0.1, learning_rate=0.0001, max_delta_step=0, max_depth=3,\n",
       "       min_child_weight=1, missing=None, n_estimators=360, nthread=6,\n",
       "       objective='multi:softprob', reg_alpha=0, reg_lambda=1,\n",
       "       scale_pos_weight=1, seed=0, silent=True, subsample=1)"
      ]
     },
     "execution_count": 222,
     "metadata": {},
     "output_type": "execute_result"
    }
   ],
   "source": [
    "model = xgb.XGBClassifier(learning_rate=0.0001, n_estimators=360, max_depth=3, nthread=6, gamma=0.1)\n",
    "model.fit(X,Y)"
   ]
  },
  {
   "cell_type": "code",
   "execution_count": 223,
   "metadata": {
    "collapsed": false
   },
   "outputs": [
    {
     "data": {
      "text/plain": [
       "0.82432432432432434"
      ]
     },
     "execution_count": 223,
     "metadata": {},
     "output_type": "execute_result"
    }
   ],
   "source": [
    "model.score(X,Y)"
   ]
  },
  {
   "cell_type": "code",
   "execution_count": 224,
   "metadata": {
    "collapsed": false
   },
   "outputs": [
    {
     "data": {
      "text/plain": [
       "array([1, 2, 1, 0, 0, 0, 1, 2, 0, 1, 0, 1, 2, 0, 1, 0, 2, 0, 0, 1, 1, 2, 1,\n",
       "       0, 2, 2, 1, 2, 1, 2, 2, 1, 1, 2, 2, 1, 0, 2, 0, 1, 0, 2, 2, 1, 2, 1,\n",
       "       1, 1, 1, 0, 2, 2, 0, 2, 2, 0, 2, 2, 1, 0, 1, 1, 0, 2, 1, 2, 1, 1, 0,\n",
       "       1, 0, 2, 1, 2, 2, 2, 2, 1, 0, 2, 0, 2, 1, 1, 0, 0, 2, 2, 0, 0, 0, 0,\n",
       "       2, 0, 0, 0, 0, 0, 1, 0, 2, 2, 1, 2, 1, 1, 1, 2, 1, 1, 2, 2, 0, 2, 1,\n",
       "       0, 0, 2, 1, 0, 2, 0, 0, 1, 1, 0, 0, 0, 1, 1, 0, 2, 2, 1, 0, 2, 1, 2,\n",
       "       2, 0, 1, 0, 0, 1, 1, 0, 1, 2, 0, 0, 2, 1, 1, 2, 2, 0, 1, 1, 0, 1, 1,\n",
       "       2, 2, 2, 0, 0, 2, 0, 2, 0, 0, 1, 0, 2, 1, 1, 0, 1, 1, 1, 0, 2, 1, 2,\n",
       "       0, 2, 2, 2, 1, 0, 0, 1, 2, 0, 1, 2, 1, 2, 1, 1, 0, 0, 2, 0, 2, 0, 2,\n",
       "       2, 2, 1, 2, 2, 0, 0, 2, 2, 1, 0, 1, 2, 2, 2, 2, 1, 1, 2, 0, 0, 2, 0,\n",
       "       2, 2, 0, 0, 0, 1, 0, 1, 1, 2, 0, 0, 0, 0, 2, 2, 2, 0, 0, 2, 0, 0, 0,\n",
       "       2, 2, 1, 0, 2, 0, 0, 0, 2, 0, 2, 2, 2, 1, 1, 0, 2, 1, 1, 2, 2, 1, 1,\n",
       "       2, 1, 2, 0, 0, 2, 1, 2, 1, 1, 2, 1, 2, 0, 1, 0, 1, 2, 2, 2, 0, 2, 0,\n",
       "       1, 2, 1, 0, 0, 2, 1, 2, 2, 0, 2, 1, 1, 2, 0, 0, 1, 2, 0, 0, 2, 0, 2,\n",
       "       1, 2, 0, 0, 0, 1, 0, 1, 1, 2, 2, 0, 0, 1, 2, 1, 1, 1, 1, 2, 2, 2, 2,\n",
       "       2, 0, 2, 0, 2, 1, 0, 1, 0, 2, 2, 2, 0, 0, 1, 0, 0, 2, 0, 2, 2, 1, 2,\n",
       "       2, 1, 0, 0, 1, 0, 0, 0, 1, 0, 0, 1, 1, 0, 0, 0, 2, 0, 0, 0, 0, 0, 2,\n",
       "       1, 0, 2, 2, 1, 1, 0, 2, 1, 0, 1, 2, 1, 0, 1, 1, 0, 2, 0, 0, 0, 1, 2,\n",
       "       1, 0, 2, 1, 2, 0, 0, 1, 1, 1, 0, 0, 2, 0, 2, 0, 2, 2, 2, 1, 2, 1, 2,\n",
       "       0, 2, 0, 1, 2, 0, 2, 0, 2, 0, 2, 2, 1, 1, 1, 2, 2, 2, 0, 2, 0, 1, 2,\n",
       "       0, 0, 1, 1, 0, 1, 2, 1, 1, 0, 1, 1, 2, 1, 0, 0, 0, 0, 0, 2, 2, 1, 0,\n",
       "       0, 0, 2, 0, 0, 0, 1, 0, 2, 1, 0, 1, 0, 2, 1, 1, 0, 0, 0, 2, 2, 1, 2,\n",
       "       1, 0, 1, 2, 2, 1, 0, 0, 1, 1, 1, 2, 2, 0, 1, 1, 1, 1, 1, 0, 1, 0, 0])"
      ]
     },
     "execution_count": 224,
     "metadata": {},
     "output_type": "execute_result"
    }
   ],
   "source": [
    "Y_pred = model.predict(X_test)\n",
    "Y_pred"
   ]
  },
  {
   "cell_type": "code",
   "execution_count": 225,
   "metadata": {
    "collapsed": false
   },
   "outputs": [
    {
     "data": {
      "text/plain": [
       "array(['Ghoul', 'Goblin', 'Ghoul', 'Ghost', 'Ghost', 'Ghost', 'Ghoul',\n",
       "       'Goblin', 'Ghost', 'Ghoul', 'Ghost', 'Ghoul', 'Goblin', 'Ghost',\n",
       "       'Ghoul', 'Ghost', 'Goblin', 'Ghost', 'Ghost', 'Ghoul', 'Ghoul',\n",
       "       'Goblin', 'Ghoul', 'Ghost', 'Goblin', 'Goblin', 'Ghoul', 'Goblin',\n",
       "       'Ghoul', 'Goblin', 'Goblin', 'Ghoul', 'Ghoul', 'Goblin', 'Goblin',\n",
       "       'Ghoul', 'Ghost', 'Goblin', 'Ghost', 'Ghoul', 'Ghost', 'Goblin',\n",
       "       'Goblin', 'Ghoul', 'Goblin', 'Ghoul', 'Ghoul', 'Ghoul', 'Ghoul',\n",
       "       'Ghost', 'Goblin', 'Goblin', 'Ghost', 'Goblin', 'Goblin', 'Ghost',\n",
       "       'Goblin', 'Goblin', 'Ghoul', 'Ghost', 'Ghoul', 'Ghoul', 'Ghost',\n",
       "       'Goblin', 'Ghoul', 'Goblin', 'Ghoul', 'Ghoul', 'Ghost', 'Ghoul',\n",
       "       'Ghost', 'Goblin', 'Ghoul', 'Goblin', 'Goblin', 'Goblin', 'Goblin',\n",
       "       'Ghoul', 'Ghost', 'Goblin', 'Ghost', 'Goblin', 'Ghoul', 'Ghoul',\n",
       "       'Ghost', 'Ghost', 'Goblin', 'Goblin', 'Ghost', 'Ghost', 'Ghost',\n",
       "       'Ghost', 'Goblin', 'Ghost', 'Ghost', 'Ghost', 'Ghost', 'Ghost',\n",
       "       'Ghoul', 'Ghost', 'Goblin', 'Goblin', 'Ghoul', 'Goblin', 'Ghoul',\n",
       "       'Ghoul', 'Ghoul', 'Goblin', 'Ghoul', 'Ghoul', 'Goblin', 'Goblin',\n",
       "       'Ghost', 'Goblin', 'Ghoul', 'Ghost', 'Ghost', 'Goblin', 'Ghoul',\n",
       "       'Ghost', 'Goblin', 'Ghost', 'Ghost', 'Ghoul', 'Ghoul', 'Ghost',\n",
       "       'Ghost', 'Ghost', 'Ghoul', 'Ghoul', 'Ghost', 'Goblin', 'Goblin',\n",
       "       'Ghoul', 'Ghost', 'Goblin', 'Ghoul', 'Goblin', 'Goblin', 'Ghost',\n",
       "       'Ghoul', 'Ghost', 'Ghost', 'Ghoul', 'Ghoul', 'Ghost', 'Ghoul',\n",
       "       'Goblin', 'Ghost', 'Ghost', 'Goblin', 'Ghoul', 'Ghoul', 'Goblin',\n",
       "       'Goblin', 'Ghost', 'Ghoul', 'Ghoul', 'Ghost', 'Ghoul', 'Ghoul',\n",
       "       'Goblin', 'Goblin', 'Goblin', 'Ghost', 'Ghost', 'Goblin', 'Ghost',\n",
       "       'Goblin', 'Ghost', 'Ghost', 'Ghoul', 'Ghost', 'Goblin', 'Ghoul',\n",
       "       'Ghoul', 'Ghost', 'Ghoul', 'Ghoul', 'Ghoul', 'Ghost', 'Goblin',\n",
       "       'Ghoul', 'Goblin', 'Ghost', 'Goblin', 'Goblin', 'Goblin', 'Ghoul',\n",
       "       'Ghost', 'Ghost', 'Ghoul', 'Goblin', 'Ghost', 'Ghoul', 'Goblin',\n",
       "       'Ghoul', 'Goblin', 'Ghoul', 'Ghoul', 'Ghost', 'Ghost', 'Goblin',\n",
       "       'Ghost', 'Goblin', 'Ghost', 'Goblin', 'Goblin', 'Goblin', 'Ghoul',\n",
       "       'Goblin', 'Goblin', 'Ghost', 'Ghost', 'Goblin', 'Goblin', 'Ghoul',\n",
       "       'Ghost', 'Ghoul', 'Goblin', 'Goblin', 'Goblin', 'Goblin', 'Ghoul',\n",
       "       'Ghoul', 'Goblin', 'Ghost', 'Ghost', 'Goblin', 'Ghost', 'Goblin',\n",
       "       'Goblin', 'Ghost', 'Ghost', 'Ghost', 'Ghoul', 'Ghost', 'Ghoul',\n",
       "       'Ghoul', 'Goblin', 'Ghost', 'Ghost', 'Ghost', 'Ghost', 'Goblin',\n",
       "       'Goblin', 'Goblin', 'Ghost', 'Ghost', 'Goblin', 'Ghost', 'Ghost',\n",
       "       'Ghost', 'Goblin', 'Goblin', 'Ghoul', 'Ghost', 'Goblin', 'Ghost',\n",
       "       'Ghost', 'Ghost', 'Goblin', 'Ghost', 'Goblin', 'Goblin', 'Goblin',\n",
       "       'Ghoul', 'Ghoul', 'Ghost', 'Goblin', 'Ghoul', 'Ghoul', 'Goblin',\n",
       "       'Goblin', 'Ghoul', 'Ghoul', 'Goblin', 'Ghoul', 'Goblin', 'Ghost',\n",
       "       'Ghost', 'Goblin', 'Ghoul', 'Goblin', 'Ghoul', 'Ghoul', 'Goblin',\n",
       "       'Ghoul', 'Goblin', 'Ghost', 'Ghoul', 'Ghost', 'Ghoul', 'Goblin',\n",
       "       'Goblin', 'Goblin', 'Ghost', 'Goblin', 'Ghost', 'Ghoul', 'Goblin',\n",
       "       'Ghoul', 'Ghost', 'Ghost', 'Goblin', 'Ghoul', 'Goblin', 'Goblin',\n",
       "       'Ghost', 'Goblin', 'Ghoul', 'Ghoul', 'Goblin', 'Ghost', 'Ghost',\n",
       "       'Ghoul', 'Goblin', 'Ghost', 'Ghost', 'Goblin', 'Ghost', 'Goblin',\n",
       "       'Ghoul', 'Goblin', 'Ghost', 'Ghost', 'Ghost', 'Ghoul', 'Ghost',\n",
       "       'Ghoul', 'Ghoul', 'Goblin', 'Goblin', 'Ghost', 'Ghost', 'Ghoul',\n",
       "       'Goblin', 'Ghoul', 'Ghoul', 'Ghoul', 'Ghoul', 'Goblin', 'Goblin',\n",
       "       'Goblin', 'Goblin', 'Goblin', 'Ghost', 'Goblin', 'Ghost', 'Goblin',\n",
       "       'Ghoul', 'Ghost', 'Ghoul', 'Ghost', 'Goblin', 'Goblin', 'Goblin',\n",
       "       'Ghost', 'Ghost', 'Ghoul', 'Ghost', 'Ghost', 'Goblin', 'Ghost',\n",
       "       'Goblin', 'Goblin', 'Ghoul', 'Goblin', 'Goblin', 'Ghoul', 'Ghost',\n",
       "       'Ghost', 'Ghoul', 'Ghost', 'Ghost', 'Ghost', 'Ghoul', 'Ghost',\n",
       "       'Ghost', 'Ghoul', 'Ghoul', 'Ghost', 'Ghost', 'Ghost', 'Goblin',\n",
       "       'Ghost', 'Ghost', 'Ghost', 'Ghost', 'Ghost', 'Goblin', 'Ghoul',\n",
       "       'Ghost', 'Goblin', 'Goblin', 'Ghoul', 'Ghoul', 'Ghost', 'Goblin',\n",
       "       'Ghoul', 'Ghost', 'Ghoul', 'Goblin', 'Ghoul', 'Ghost', 'Ghoul',\n",
       "       'Ghoul', 'Ghost', 'Goblin', 'Ghost', 'Ghost', 'Ghost', 'Ghoul',\n",
       "       'Goblin', 'Ghoul', 'Ghost', 'Goblin', 'Ghoul', 'Goblin', 'Ghost',\n",
       "       'Ghost', 'Ghoul', 'Ghoul', 'Ghoul', 'Ghost', 'Ghost', 'Goblin',\n",
       "       'Ghost', 'Goblin', 'Ghost', 'Goblin', 'Goblin', 'Goblin', 'Ghoul',\n",
       "       'Goblin', 'Ghoul', 'Goblin', 'Ghost', 'Goblin', 'Ghost', 'Ghoul',\n",
       "       'Goblin', 'Ghost', 'Goblin', 'Ghost', 'Goblin', 'Ghost', 'Goblin',\n",
       "       'Goblin', 'Ghoul', 'Ghoul', 'Ghoul', 'Goblin', 'Goblin', 'Goblin',\n",
       "       'Ghost', 'Goblin', 'Ghost', 'Ghoul', 'Goblin', 'Ghost', 'Ghost',\n",
       "       'Ghoul', 'Ghoul', 'Ghost', 'Ghoul', 'Goblin', 'Ghoul', 'Ghoul',\n",
       "       'Ghost', 'Ghoul', 'Ghoul', 'Goblin', 'Ghoul', 'Ghost', 'Ghost',\n",
       "       'Ghost', 'Ghost', 'Ghost', 'Goblin', 'Goblin', 'Ghoul', 'Ghost',\n",
       "       'Ghost', 'Ghost', 'Goblin', 'Ghost', 'Ghost', 'Ghost', 'Ghoul',\n",
       "       'Ghost', 'Goblin', 'Ghoul', 'Ghost', 'Ghoul', 'Ghost', 'Goblin',\n",
       "       'Ghoul', 'Ghoul', 'Ghost', 'Ghost', 'Ghost', 'Goblin', 'Goblin',\n",
       "       'Ghoul', 'Goblin', 'Ghoul', 'Ghost', 'Ghoul', 'Goblin', 'Goblin',\n",
       "       'Ghoul', 'Ghost', 'Ghost', 'Ghoul', 'Ghoul', 'Ghoul', 'Goblin',\n",
       "       'Goblin', 'Ghost', 'Ghoul', 'Ghoul', 'Ghoul', 'Ghoul', 'Ghoul',\n",
       "       'Ghost', 'Ghoul', 'Ghost', 'Ghost'], dtype=object)"
      ]
     },
     "execution_count": 225,
     "metadata": {},
     "output_type": "execute_result"
    }
   ],
   "source": [
    "pred = leY.inverse_transform(Y_pred)\n",
    "pred"
   ]
  },
  {
   "cell_type": "code",
   "execution_count": null,
   "metadata": {
    "collapsed": true
   },
   "outputs": [],
   "source": [
    "submission = pd.DataFrame({'id':indexes,\n",
    "                           'type':pred})\n",
    "submission.to_csv('submission.csv', index=False)"
   ]
  }
 ],
 "metadata": {
  "anaconda-cloud": {},
  "kernelspec": {
   "display_name": "Python [Root]",
   "language": "python",
   "name": "Python [Root]"
  },
  "language_info": {
   "codemirror_mode": {
    "name": "ipython",
    "version": 3
   },
   "file_extension": ".py",
   "mimetype": "text/x-python",
   "name": "python",
   "nbconvert_exporter": "python",
   "pygments_lexer": "ipython3",
   "version": "3.5.2"
  }
 },
 "nbformat": 4,
 "nbformat_minor": 0
}
